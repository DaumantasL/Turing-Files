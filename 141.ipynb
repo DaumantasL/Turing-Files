{
  "nbformat": 4,
  "nbformat_minor": 0,
  "metadata": {
    "kernelspec": {
      "display_name": "Python 3",
      "language": "python",
      "name": "python3"
    },
    "language_info": {
      "codemirror_mode": {
        "name": "ipython",
        "version": 3
      },
      "file_extension": ".py",
      "mimetype": "text/x-python",
      "name": "python",
      "nbconvert_exporter": "python",
      "pygments_lexer": "ipython3",
      "version": "3.8.5"
    },
    "colab": {
      "name": "141.ipynb",
      "provenance": [],
      "toc_visible": true
    }
  },
  "cells": [
    {
      "cell_type": "markdown",
      "metadata": {
        "id": "_1S5jOyfwcJf"
      },
      "source": [
        "# Capstone Project"
      ]
    },
    {
      "cell_type": "markdown",
      "metadata": {
        "id": "Dz4y5CeewcJu"
      },
      "source": [
        "## Background"
      ]
    },
    {
      "cell_type": "markdown",
      "metadata": {
        "id": "oOKXlhkfwcJx"
      },
      "source": [
        "We are glad you have successfully reached the capstone project part of \"Data Science Fundamentals\" course. You will put everything \n",
        "you have learned so far about data science to work. The outcome of this module should potentially serve as your portfolio item.\n",
        "\n",
        "Unlike with previous projects, this time you are free to choose a dataset to explore from three suggested ones. As you will have to solve a provided problem, there will not be list of predefined questions that you have to answer - be creative and explore any dimensions of data you deem worth analyzing.\n",
        "\n",
        "Although this might seem scary, this is how data science looks like in the industry. Often, it's your responsibility to not only give answers using the data, but also raise questions. The more creatively you look at this project, the better. Good luck!"
      ]
    },
    {
      "cell_type": "markdown",
      "metadata": {
        "id": "IzOc4waQwcJy"
      },
      "source": [
        "----"
      ]
    },
    {
      "cell_type": "markdown",
      "metadata": {
        "id": "YPTRboYcwcJz"
      },
      "source": [
        "## Requirements\n",
        "\n",
        "Whichever problem you choose to analyze, general requirements are as follow:\n",
        "\n",
        "#### Exploratory Data Analysis\n",
        "* Describe the data with basic statistical parameters - mean, median, quantiles, etc. Use parameters that give you the most important statistical insights of the data.\n",
        "* Grouping the data and analyzing the groups - using Pandas aggregate methods.\n",
        "* Work with features - handle missing data if needed, use pandas date APIs.\n",
        "* Manipulate datasets - use joins in needed.\n",
        "* Visualize the data - you can use line, scatter, histogram plots, density plots, regplots, etc.\n",
        "\n",
        "#### Statistical hypothesis testing\n",
        "* Use at least one statistical significance test.\n",
        "* Report p-values.\n",
        "* Use visualizations.\n",
        "\n",
        "#### Modeling\n",
        "* Visualize data with dimensionality reduction algorithms.\n",
        "* Perform cluster analysis.\n",
        "* Use a linear model to explain relationships and predict new values.\n",
        "\n",
        "#### Presentation\n",
        "* Present the project - the data, methods and results."
      ]
    },
    {
      "cell_type": "markdown",
      "metadata": {
        "id": "Sn-vx1XOwcJ5"
      },
      "source": [
        "# 2016 US presidential elections"
      ]
    },
    {
      "cell_type": "markdown",
      "metadata": {
        "id": "C9HS80CnwcJ6"
      },
      "source": [
        "<div><img width=\"400px\" height=\"auto\" src=\"https://images.unsplash.com/photo-1583340806569-6da3d5ea9911?ixlib=rb-1.2.1&ixid=MXwxMjA3fDB8MHxwaG90by1wYWdlfHx8fGVufDB8fHw%3D&auto=format&fit=crop&w=1315&q=80\" /></div>"
      ]
    },
    {
      "cell_type": "markdown",
      "metadata": {
        "id": "PAsbD9L_wcJ7"
      },
      "source": [
        "In 2016, Donald Trump lost the popular vote, yet he won the electoral vote, securing 4 years in the Oval Office. This has been a shock to democrat supporters all around the world.\n",
        "\n",
        "Imagine you travel back in time to 2016. As soon as you step out of your time-capsule, the Democratic Party hires you. They want you, the best data scientist across the time and space, **to explain what happened and what should have been done differently**. They want you to **prepare them for 2020 presidential elections**.\n",
        "\n",
        "The Party has some tips for you - inspect the voters. What are Trump supporters? What do they feature? What are our supporters? Where should focus next? Any pro-trump states? Cities?\n",
        "\n",
        "The Democrats were kind of enough to share [a Kaggle dataset](https://www.kaggle.com/benhamner/2016-us-election) with you on 2016 U.S. elections. Use the data to help the Democrats."
      ]
    },
    {
      "cell_type": "code",
      "metadata": {
        "id": "6Mmb0-QikEXp"
      },
      "source": [
        "import numpy as np\n",
        "import pandas as pd\n",
        "import seaborn as sns\n",
        "import matplotlib.pyplot as plt"
      ],
      "execution_count": 39,
      "outputs": []
    },
    {
      "cell_type": "markdown",
      "metadata": {
        "id": "dqqyyAjEPYIp"
      },
      "source": [
        "In 2016, Hillary received 48.2% of the popular vote, Trump received 46.1% and won. However, he didn't just win, he won handily, with 304 to Hillary's 227 electoral votes. In other words, a 1.9% difference in Hillary's favour turned into a 14.3% difference in favor to Donald. How does something like this happen?\n",
        "\n",
        "Put in a somewhat oversimplified way, people are not the relevant actors in a presidential election in USA, states are. States choose electors, electors vote in the president.\n",
        "\n",
        "Every state receives a number of electors based on their population, but also a minimum of 3 electors simply for being a state. This is largely where the discrepancy comes in, and makes the votes of voters in less populated states worth more per voter.\n",
        "\n",
        "So, in order to win, should the Democrats focus on getting voters in the \"best value\" states? Not quite.\n",
        "\n",
        "The election system is first past the post, meaning that whoever receives the majority in a state receives *all* of the state's elector votes1 - the votes of Republicans in California matter about as much as the votes of Democrats in Texas, which is to say not at all. Thus, gaining more voters does literally nothing unless there are enough of them in the same state to outvote the other party.\n",
        "\n",
        "So what does this mean for our analysis? We're looking for swing states - states that are not already locked in to one candidate or the other - and we are looking to find out just how swingy they are, what the proportion of hardcore supporters of a party or candidate there are in a state, and what proportion of one are voters that might be persuaded.\n",
        "\n",
        "1 shennanigans and voting districts notwithstanding"
      ]
    },
    {
      "cell_type": "markdown",
      "metadata": {
        "id": "oJnaP_XAbwPM"
      },
      "source": [
        "We also have an issue with the dataset that the Democrats have provided us. The election data given is of the 2016 primary elections, the means by which each of the parties (and, perhaps quixotically, some Independents) determine internally which exact candidate of theirs they want to represent them in the election, rather than which party wins the election.\n",
        "\n",
        "We want to know what makes people vote Democrat over Republican. The primaries can only tell us which Democrat from other Democrats or which Republican from other Republicans people prefer.\n",
        "\n",
        "While the primary results will help us identify hardcore supporters, we're going to need a dataset with the actual 2016 election to be able to form any kind of bigger picture."
      ]
    },
    {
      "cell_type": "markdown",
      "metadata": {
        "id": "uvnG8fqcigh0"
      },
      "source": [
        "Finally, each state is free to determine how exactly it picks its electors, which means there are institutional factors to consider when evaluating the results. The main ways these are determined are:\n",
        "\n",
        "* Primaries\n",
        "* Open caucuses\n",
        "* Closed caucuses"
      ]
    },
    {
      "cell_type": "markdown",
      "metadata": {
        "id": "fX5RRrz0dStH"
      },
      "source": [
        "Presidential election dataset [from MIT](https://doi.org/10.7910/DVN/VOQCHQ)."
      ]
    },
    {
      "cell_type": "code",
      "metadata": {
        "id": "x6TYHOCXkhVx"
      },
      "source": [
        "pe = pd.read_csv(\"https://github.com/DaumantasL/Turing-Files/blob/main/countypres_2000-2016.csv?raw=true\") #presidential elections 2012-2016\n",
        "\n",
        "cf = pd.read_csv(\"https://github.com/DaumantasL/Turing-Files/raw/main/county_facts.csv\") #county facts\n",
        "cfdict = pd.read_csv(\"https://github.com/DaumantasL/Turing-Files/raw/main/county_facts_dictionary.csv\") #county facts dictionary\n",
        "\n",
        "electoral_college = pd.read_csv(\"https://raw.githubusercontent.com/DaumantasL/Turing-Files/main/Electoral_College.csv\") #elector count by state and year"
      ],
      "execution_count": 40,
      "outputs": []
    },
    {
      "cell_type": "markdown",
      "metadata": {
        "id": "WLA1sYQtLIwz"
      },
      "source": [
        "##EDA: Data cleaning"
      ]
    },
    {
      "cell_type": "markdown",
      "metadata": {
        "id": "2e3bKMeTcKvA"
      },
      "source": [
        "###County facts dataset"
      ]
    },
    {
      "cell_type": "markdown",
      "metadata": {
        "id": "gmguGgZLIb8L"
      },
      "source": [
        "Check for null values in county facts datamframe."
      ]
    },
    {
      "cell_type": "code",
      "metadata": {
        "colab": {
          "base_uri": "https://localhost:8080/"
        },
        "id": "Sl8EaTpXfKAf",
        "outputId": "338773a9-d833-4f05-f928-6cfbb6ee10fb"
      },
      "source": [
        "cf.shape"
      ],
      "execution_count": 41,
      "outputs": [
        {
          "output_type": "execute_result",
          "data": {
            "text/plain": [
              "(3195, 54)"
            ]
          },
          "metadata": {
            "tags": []
          },
          "execution_count": 41
        }
      ]
    },
    {
      "cell_type": "code",
      "metadata": {
        "colab": {
          "base_uri": "https://localhost:8080/",
          "height": 365
        },
        "id": "3eX3bt0gbogT",
        "outputId": "deaf51c5-d363-490b-f105-a3616ee4aa95"
      },
      "source": [
        "plt.figure(figsize=(12,4))\n",
        "sns.heatmap(cf.isnull(), cbar=False, xticklabels=True, yticklabels=False)"
      ],
      "execution_count": 42,
      "outputs": [
        {
          "output_type": "execute_result",
          "data": {
            "text/plain": [
              "<matplotlib.axes._subplots.AxesSubplot at 0x7fcabd8c9dd0>"
            ]
          },
          "metadata": {
            "tags": []
          },
          "execution_count": 42
        },
        {
          "output_type": "display_data",
          "data": {
            "image/png": "[encoded data removed]",
            "text/plain": [
              "<Figure size 864x288 with 1 Axes>"
            ]
          },
          "metadata": {
            "tags": [],
            "needs_background": "light"
          }
        }
      ]
    },
    {
      "cell_type": "code",
      "metadata": {
        "colab": {
          "base_uri": "https://localhost:8080/",
          "height": 241
        },
        "id": "aMW9B8jHIi29",
        "outputId": "079dc90c-8902-411e-873f-36db15c23593"
      },
      "source": [
        "cf[cf[\"state_abbreviation\"].isnull()].head()"
      ],
      "execution_count": 43,
      "outputs": [
        {
          "output_type": "execute_result",
          "data": {
            "text/html": [
              "<div>\n",
              "<style scoped>\n",
              "    .dataframe tbody tr th:only-of-type {\n",
              "        vertical-align: middle;\n",
              "    }\n",
              "\n",
              "    .dataframe tbody tr th {\n",
              "        vertical-align: top;\n",
              "    }\n",
              "\n",
              "    .dataframe thead th {\n",
              "        text-align: right;\n",
              "    }\n",
              "</style>\n",
              "<table border=\"1\" class=\"dataframe\">\n",
              "  <thead>\n",
              "    <tr style=\"text-align: right;\">\n",
              "      <th></th>\n",
              "      <th>fips</th>\n",
              "      <th>area_name</th>\n",
              "      <th>state_abbreviation</th>\n",
              "      <th>PST045214</th>\n",
              "      <th>PST040210</th>\n",
              "      <th>PST120214</th>\n",
              "      <th>POP010210</th>\n",
              "      <th>AGE135214</th>\n",
              "      <th>AGE295214</th>\n",
              "      <th>AGE775214</th>\n",
              "      <th>SEX255214</th>\n",
              "      <th>RHI125214</th>\n",
              "      <th>RHI225214</th>\n",
              "      <th>RHI325214</th>\n",
              "      <th>RHI425214</th>\n",
              "      <th>RHI525214</th>\n",
              "      <th>RHI625214</th>\n",
              "      <th>RHI725214</th>\n",
              "      <th>RHI825214</th>\n",
              "      <th>POP715213</th>\n",
              "      <th>POP645213</th>\n",
              "      <th>POP815213</th>\n",
              "      <th>EDU635213</th>\n",
              "      <th>EDU685213</th>\n",
              "      <th>VET605213</th>\n",
              "      <th>LFE305213</th>\n",
              "      <th>HSG010214</th>\n",
              "      <th>HSG445213</th>\n",
              "      <th>HSG096213</th>\n",
              "      <th>HSG495213</th>\n",
              "      <th>HSD410213</th>\n",
              "      <th>HSD310213</th>\n",
              "      <th>INC910213</th>\n",
              "      <th>INC110213</th>\n",
              "      <th>PVY020213</th>\n",
              "      <th>BZA010213</th>\n",
              "      <th>BZA110213</th>\n",
              "      <th>BZA115213</th>\n",
              "      <th>NES010213</th>\n",
              "      <th>SBO001207</th>\n",
              "      <th>SBO315207</th>\n",
              "      <th>SBO115207</th>\n",
              "      <th>SBO215207</th>\n",
              "      <th>SBO515207</th>\n",
              "      <th>SBO415207</th>\n",
              "      <th>SBO015207</th>\n",
              "      <th>MAN450207</th>\n",
              "      <th>WTN220207</th>\n",
              "      <th>RTN130207</th>\n",
              "      <th>RTN131207</th>\n",
              "      <th>AFN120207</th>\n",
              "      <th>BPS030214</th>\n",
              "      <th>LND110210</th>\n",
              "      <th>POP060210</th>\n",
              "    </tr>\n",
              "  </thead>\n",
              "  <tbody>\n",
              "    <tr>\n",
              "      <th>0</th>\n",
              "      <td>0</td>\n",
              "      <td>United States</td>\n",
              "      <td>NaN</td>\n",
              "      <td>318857056</td>\n",
              "      <td>308758105</td>\n",
              "      <td>3.3</td>\n",
              "      <td>308745538</td>\n",
              "      <td>6.2</td>\n",
              "      <td>23.1</td>\n",
              "      <td>14.5</td>\n",
              "      <td>50.8</td>\n",
              "      <td>77.4</td>\n",
              "      <td>13.2</td>\n",
              "      <td>1.2</td>\n",
              "      <td>5.4</td>\n",
              "      <td>0.2</td>\n",
              "      <td>2.5</td>\n",
              "      <td>17.4</td>\n",
              "      <td>62.1</td>\n",
              "      <td>84.9</td>\n",
              "      <td>12.9</td>\n",
              "      <td>20.7</td>\n",
              "      <td>86.0</td>\n",
              "      <td>28.8</td>\n",
              "      <td>21263779</td>\n",
              "      <td>25.5</td>\n",
              "      <td>133957180</td>\n",
              "      <td>64.9</td>\n",
              "      <td>26.0</td>\n",
              "      <td>176700</td>\n",
              "      <td>115610216</td>\n",
              "      <td>2.63</td>\n",
              "      <td>28155</td>\n",
              "      <td>53046</td>\n",
              "      <td>15.4</td>\n",
              "      <td>7488353</td>\n",
              "      <td>118266253</td>\n",
              "      <td>2.0</td>\n",
              "      <td>23005620</td>\n",
              "      <td>27092908</td>\n",
              "      <td>7.1</td>\n",
              "      <td>0.9</td>\n",
              "      <td>5.7</td>\n",
              "      <td>0.1</td>\n",
              "      <td>8.3</td>\n",
              "      <td>28.8</td>\n",
              "      <td>5319456312</td>\n",
              "      <td>4174286516</td>\n",
              "      <td>3917663456</td>\n",
              "      <td>12990</td>\n",
              "      <td>613795732</td>\n",
              "      <td>1046363</td>\n",
              "      <td>3531905.43</td>\n",
              "      <td>87.4</td>\n",
              "    </tr>\n",
              "    <tr>\n",
              "      <th>1</th>\n",
              "      <td>1000</td>\n",
              "      <td>Alabama</td>\n",
              "      <td>NaN</td>\n",
              "      <td>4849377</td>\n",
              "      <td>4780127</td>\n",
              "      <td>1.4</td>\n",
              "      <td>4779736</td>\n",
              "      <td>6.1</td>\n",
              "      <td>22.8</td>\n",
              "      <td>15.3</td>\n",
              "      <td>51.5</td>\n",
              "      <td>69.7</td>\n",
              "      <td>26.7</td>\n",
              "      <td>0.7</td>\n",
              "      <td>1.3</td>\n",
              "      <td>0.1</td>\n",
              "      <td>1.5</td>\n",
              "      <td>4.1</td>\n",
              "      <td>66.2</td>\n",
              "      <td>85.0</td>\n",
              "      <td>3.5</td>\n",
              "      <td>5.2</td>\n",
              "      <td>83.1</td>\n",
              "      <td>22.6</td>\n",
              "      <td>388865</td>\n",
              "      <td>24.2</td>\n",
              "      <td>2207912</td>\n",
              "      <td>69.7</td>\n",
              "      <td>15.9</td>\n",
              "      <td>122500</td>\n",
              "      <td>1838683</td>\n",
              "      <td>2.55</td>\n",
              "      <td>23680</td>\n",
              "      <td>43253</td>\n",
              "      <td>18.6</td>\n",
              "      <td>97578</td>\n",
              "      <td>1603100</td>\n",
              "      <td>1.1</td>\n",
              "      <td>311578</td>\n",
              "      <td>382350</td>\n",
              "      <td>14.8</td>\n",
              "      <td>0.8</td>\n",
              "      <td>1.8</td>\n",
              "      <td>0.1</td>\n",
              "      <td>1.2</td>\n",
              "      <td>28.1</td>\n",
              "      <td>112858843</td>\n",
              "      <td>52252752</td>\n",
              "      <td>57344851</td>\n",
              "      <td>12364</td>\n",
              "      <td>6426342</td>\n",
              "      <td>13369</td>\n",
              "      <td>50645.33</td>\n",
              "      <td>94.4</td>\n",
              "    </tr>\n",
              "    <tr>\n",
              "      <th>69</th>\n",
              "      <td>2000</td>\n",
              "      <td>Alaska</td>\n",
              "      <td>NaN</td>\n",
              "      <td>736732</td>\n",
              "      <td>710249</td>\n",
              "      <td>3.7</td>\n",
              "      <td>710231</td>\n",
              "      <td>7.4</td>\n",
              "      <td>25.3</td>\n",
              "      <td>9.4</td>\n",
              "      <td>47.4</td>\n",
              "      <td>66.9</td>\n",
              "      <td>3.9</td>\n",
              "      <td>14.8</td>\n",
              "      <td>6.1</td>\n",
              "      <td>1.3</td>\n",
              "      <td>7.1</td>\n",
              "      <td>6.8</td>\n",
              "      <td>61.9</td>\n",
              "      <td>80.3</td>\n",
              "      <td>7.0</td>\n",
              "      <td>16.2</td>\n",
              "      <td>91.6</td>\n",
              "      <td>27.5</td>\n",
              "      <td>71004</td>\n",
              "      <td>18.8</td>\n",
              "      <td>308583</td>\n",
              "      <td>63.8</td>\n",
              "      <td>24.0</td>\n",
              "      <td>241800</td>\n",
              "      <td>251899</td>\n",
              "      <td>2.75</td>\n",
              "      <td>32651</td>\n",
              "      <td>70760</td>\n",
              "      <td>9.9</td>\n",
              "      <td>20519</td>\n",
              "      <td>266627</td>\n",
              "      <td>3.3</td>\n",
              "      <td>52991</td>\n",
              "      <td>68728</td>\n",
              "      <td>1.5</td>\n",
              "      <td>10.0</td>\n",
              "      <td>3.1</td>\n",
              "      <td>0.3</td>\n",
              "      <td>0.0</td>\n",
              "      <td>25.9</td>\n",
              "      <td>8204030</td>\n",
              "      <td>4563605</td>\n",
              "      <td>9303387</td>\n",
              "      <td>13635</td>\n",
              "      <td>1851293</td>\n",
              "      <td>1518</td>\n",
              "      <td>570640.95</td>\n",
              "      <td>1.2</td>\n",
              "    </tr>\n",
              "    <tr>\n",
              "      <th>99</th>\n",
              "      <td>4000</td>\n",
              "      <td>Arizona</td>\n",
              "      <td>NaN</td>\n",
              "      <td>6731484</td>\n",
              "      <td>6392310</td>\n",
              "      <td>5.3</td>\n",
              "      <td>6392017</td>\n",
              "      <td>6.4</td>\n",
              "      <td>24.1</td>\n",
              "      <td>15.9</td>\n",
              "      <td>50.3</td>\n",
              "      <td>83.7</td>\n",
              "      <td>4.7</td>\n",
              "      <td>5.3</td>\n",
              "      <td>3.3</td>\n",
              "      <td>0.3</td>\n",
              "      <td>2.7</td>\n",
              "      <td>30.5</td>\n",
              "      <td>56.2</td>\n",
              "      <td>80.4</td>\n",
              "      <td>13.4</td>\n",
              "      <td>26.8</td>\n",
              "      <td>85.7</td>\n",
              "      <td>26.9</td>\n",
              "      <td>522382</td>\n",
              "      <td>24.6</td>\n",
              "      <td>2909218</td>\n",
              "      <td>64.4</td>\n",
              "      <td>20.7</td>\n",
              "      <td>165100</td>\n",
              "      <td>2370289</td>\n",
              "      <td>2.67</td>\n",
              "      <td>25358</td>\n",
              "      <td>49774</td>\n",
              "      <td>17.9</td>\n",
              "      <td>132762</td>\n",
              "      <td>2173205</td>\n",
              "      <td>1.8</td>\n",
              "      <td>420233</td>\n",
              "      <td>491529</td>\n",
              "      <td>2.0</td>\n",
              "      <td>1.9</td>\n",
              "      <td>3.3</td>\n",
              "      <td>0.0</td>\n",
              "      <td>10.7</td>\n",
              "      <td>28.1</td>\n",
              "      <td>57977827</td>\n",
              "      <td>57573459</td>\n",
              "      <td>86758801</td>\n",
              "      <td>13637</td>\n",
              "      <td>13268514</td>\n",
              "      <td>26997</td>\n",
              "      <td>113594.08</td>\n",
              "      <td>56.3</td>\n",
              "    </tr>\n",
              "    <tr>\n",
              "      <th>115</th>\n",
              "      <td>5000</td>\n",
              "      <td>Arkansas</td>\n",
              "      <td>NaN</td>\n",
              "      <td>2966369</td>\n",
              "      <td>2915958</td>\n",
              "      <td>1.7</td>\n",
              "      <td>2915918</td>\n",
              "      <td>6.5</td>\n",
              "      <td>23.8</td>\n",
              "      <td>15.7</td>\n",
              "      <td>50.9</td>\n",
              "      <td>79.7</td>\n",
              "      <td>15.6</td>\n",
              "      <td>1.0</td>\n",
              "      <td>1.5</td>\n",
              "      <td>0.3</td>\n",
              "      <td>1.9</td>\n",
              "      <td>7.0</td>\n",
              "      <td>73.4</td>\n",
              "      <td>83.6</td>\n",
              "      <td>4.5</td>\n",
              "      <td>7.2</td>\n",
              "      <td>83.7</td>\n",
              "      <td>20.1</td>\n",
              "      <td>237311</td>\n",
              "      <td>21.3</td>\n",
              "      <td>1341033</td>\n",
              "      <td>66.7</td>\n",
              "      <td>15.7</td>\n",
              "      <td>107300</td>\n",
              "      <td>1129723</td>\n",
              "      <td>2.53</td>\n",
              "      <td>22170</td>\n",
              "      <td>40768</td>\n",
              "      <td>19.2</td>\n",
              "      <td>64772</td>\n",
              "      <td>978094</td>\n",
              "      <td>0.0</td>\n",
              "      <td>191530</td>\n",
              "      <td>238994</td>\n",
              "      <td>5.5</td>\n",
              "      <td>1.1</td>\n",
              "      <td>1.4</td>\n",
              "      <td>0.1</td>\n",
              "      <td>2.3</td>\n",
              "      <td>24.5</td>\n",
              "      <td>60735582</td>\n",
              "      <td>29659789</td>\n",
              "      <td>32974282</td>\n",
              "      <td>11602</td>\n",
              "      <td>3559795</td>\n",
              "      <td>7666</td>\n",
              "      <td>52035.48</td>\n",
              "      <td>56.0</td>\n",
              "    </tr>\n",
              "  </tbody>\n",
              "</table>\n",
              "</div>"
            ],
            "text/plain": [
              "     fips      area_name state_abbreviation  ...  BPS030214   LND110210  POP060210\n",
              "0       0  United States                NaN  ...    1046363  3531905.43       87.4\n",
              "1    1000        Alabama                NaN  ...      13369    50645.33       94.4\n",
              "69   2000         Alaska                NaN  ...       1518   570640.95        1.2\n",
              "99   4000        Arizona                NaN  ...      26997   113594.08       56.3\n",
              "115  5000       Arkansas                NaN  ...       7666    52035.48       56.0\n",
              "\n",
              "[5 rows x 54 columns]"
            ]
          },
          "metadata": {
            "tags": []
          },
          "execution_count": 43
        }
      ]
    },
    {
      "cell_type": "markdown",
      "metadata": {
        "id": "-iBDMdBiJRLz"
      },
      "source": [
        "The only missing values in the county facts dataframe are for pre-existing rows of aggregate data by state. We'll make a copy of state-level data for later use since it's a mix of information that might be difficult to aggregate on our own and then remove it from our main dataframe."
      ]
    },
    {
      "cell_type": "code",
      "metadata": {
        "id": "G-f9edS0Cv6K"
      },
      "source": [
        "states = cf[cf[\"state_abbreviation\"].isnull()].copy()\n",
        "states = states[states[\"area_name\"] != \"United States\"] #exclude nation-level data from state dataframe\n",
        "states.replace(to_replace=\"District Of Columbia\", value=\"District of Columbia\", inplace=True)\n",
        "cf = cf[ ~cf[\"state_abbreviation\"].isnull() ]"
      ],
      "execution_count": 44,
      "outputs": []
    },
    {
      "cell_type": "markdown",
      "metadata": {
        "id": "0_YoSiunT_Ra"
      },
      "source": [
        "We have a lot of difficulty interpreting column names. Lets prepare a dictionary to make them readable when needed."
      ]
    },
    {
      "cell_type": "code",
      "metadata": {
        "id": "Ksbg77yvXHir"
      },
      "source": [
        "cfdict = cfdict.set_index('column_name').T.to_dict('list')"
      ],
      "execution_count": 45,
      "outputs": []
    },
    {
      "cell_type": "markdown",
      "metadata": {
        "id": "XID3QzdZcRjC"
      },
      "source": [
        "###Presidential election dataset"
      ]
    },
    {
      "cell_type": "markdown",
      "metadata": {
        "id": "cdOAMHVsKMvc"
      },
      "source": [
        "Select the relevant year from the presidential election dataframe and check for empty values."
      ]
    },
    {
      "cell_type": "code",
      "metadata": {
        "colab": {
          "base_uri": "https://localhost:8080/",
          "height": 204
        },
        "id": "-yk5JnLshDPQ",
        "outputId": "00554f74-1e0d-4591-a2b2-97a400a85d94"
      },
      "source": [
        "pe.head()"
      ],
      "execution_count": 46,
      "outputs": [
        {
          "output_type": "execute_result",
          "data": {
            "text/html": [
              "<div>\n",
              "<style scoped>\n",
              "    .dataframe tbody tr th:only-of-type {\n",
              "        vertical-align: middle;\n",
              "    }\n",
              "\n",
              "    .dataframe tbody tr th {\n",
              "        vertical-align: top;\n",
              "    }\n",
              "\n",
              "    .dataframe thead th {\n",
              "        text-align: right;\n",
              "    }\n",
              "</style>\n",
              "<table border=\"1\" class=\"dataframe\">\n",
              "  <thead>\n",
              "    <tr style=\"text-align: right;\">\n",
              "      <th></th>\n",
              "      <th>year</th>\n",
              "      <th>state</th>\n",
              "      <th>state_po</th>\n",
              "      <th>county</th>\n",
              "      <th>FIPS</th>\n",
              "      <th>office</th>\n",
              "      <th>candidate</th>\n",
              "      <th>party</th>\n",
              "      <th>candidatevotes</th>\n",
              "      <th>totalvotes</th>\n",
              "      <th>version</th>\n",
              "    </tr>\n",
              "  </thead>\n",
              "  <tbody>\n",
              "    <tr>\n",
              "      <th>0</th>\n",
              "      <td>2000</td>\n",
              "      <td>Alabama</td>\n",
              "      <td>AL</td>\n",
              "      <td>Autauga</td>\n",
              "      <td>1001.0</td>\n",
              "      <td>President</td>\n",
              "      <td>Al Gore</td>\n",
              "      <td>democrat</td>\n",
              "      <td>4942.0</td>\n",
              "      <td>17208</td>\n",
              "      <td>20191203</td>\n",
              "    </tr>\n",
              "    <tr>\n",
              "      <th>1</th>\n",
              "      <td>2000</td>\n",
              "      <td>Alabama</td>\n",
              "      <td>AL</td>\n",
              "      <td>Autauga</td>\n",
              "      <td>1001.0</td>\n",
              "      <td>President</td>\n",
              "      <td>George W. Bush</td>\n",
              "      <td>republican</td>\n",
              "      <td>11993.0</td>\n",
              "      <td>17208</td>\n",
              "      <td>20191203</td>\n",
              "    </tr>\n",
              "    <tr>\n",
              "      <th>2</th>\n",
              "      <td>2000</td>\n",
              "      <td>Alabama</td>\n",
              "      <td>AL</td>\n",
              "      <td>Autauga</td>\n",
              "      <td>1001.0</td>\n",
              "      <td>President</td>\n",
              "      <td>Ralph Nader</td>\n",
              "      <td>green</td>\n",
              "      <td>160.0</td>\n",
              "      <td>17208</td>\n",
              "      <td>20191203</td>\n",
              "    </tr>\n",
              "    <tr>\n",
              "      <th>3</th>\n",
              "      <td>2000</td>\n",
              "      <td>Alabama</td>\n",
              "      <td>AL</td>\n",
              "      <td>Autauga</td>\n",
              "      <td>1001.0</td>\n",
              "      <td>President</td>\n",
              "      <td>Other</td>\n",
              "      <td>NaN</td>\n",
              "      <td>113.0</td>\n",
              "      <td>17208</td>\n",
              "      <td>20191203</td>\n",
              "    </tr>\n",
              "    <tr>\n",
              "      <th>4</th>\n",
              "      <td>2000</td>\n",
              "      <td>Alabama</td>\n",
              "      <td>AL</td>\n",
              "      <td>Baldwin</td>\n",
              "      <td>1003.0</td>\n",
              "      <td>President</td>\n",
              "      <td>Al Gore</td>\n",
              "      <td>democrat</td>\n",
              "      <td>13997.0</td>\n",
              "      <td>56480</td>\n",
              "      <td>20191203</td>\n",
              "    </tr>\n",
              "  </tbody>\n",
              "</table>\n",
              "</div>"
            ],
            "text/plain": [
              "   year    state state_po  ... candidatevotes  totalvotes   version\n",
              "0  2000  Alabama       AL  ...         4942.0       17208  20191203\n",
              "1  2000  Alabama       AL  ...        11993.0       17208  20191203\n",
              "2  2000  Alabama       AL  ...          160.0       17208  20191203\n",
              "3  2000  Alabama       AL  ...          113.0       17208  20191203\n",
              "4  2000  Alabama       AL  ...        13997.0       56480  20191203\n",
              "\n",
              "[5 rows x 11 columns]"
            ]
          },
          "metadata": {
            "tags": []
          },
          "execution_count": 46
        }
      ]
    },
    {
      "cell_type": "code",
      "metadata": {
        "colab": {
          "base_uri": "https://localhost:8080/",
          "height": 353
        },
        "id": "sUv5XC4_JtkN",
        "outputId": "8f186f92-2d99-4ef3-92e5-de8b46467bac"
      },
      "source": [
        "pe = pe[(pe[\"year\"]==2016) & (pe[\"office\"]==\"President\") ]\n",
        "pe = pe.drop(labels = [\"year\", \"office\", \"version\"], axis=1)\n",
        "sns.heatmap(pe.isnull(), cbar=False)"
      ],
      "execution_count": 47,
      "outputs": [
        {
          "output_type": "execute_result",
          "data": {
            "text/plain": [
              "<matplotlib.axes._subplots.AxesSubplot at 0x7fcabd961810>"
            ]
          },
          "metadata": {
            "tags": []
          },
          "execution_count": 47
        },
        {
          "output_type": "display_data",
          "data": {
            "image/png": "[encoded data removed]",
            "text/plain": [
              "<Figure size 432x288 with 1 Axes>"
            ]
          },
          "metadata": {
            "tags": [],
            "needs_background": "light"
          }
        }
      ]
    },
    {
      "cell_type": "code",
      "metadata": {
        "colab": {
          "base_uri": "https://localhost:8080/",
          "height": 204
        },
        "id": "6sKuTA8gNjYz",
        "outputId": "a4baef60-e2d2-4de5-8e96-aa1dd0c634f3"
      },
      "source": [
        "pe.head()"
      ],
      "execution_count": 48,
      "outputs": [
        {
          "output_type": "execute_result",
          "data": {
            "text/html": [
              "<div>\n",
              "<style scoped>\n",
              "    .dataframe tbody tr th:only-of-type {\n",
              "        vertical-align: middle;\n",
              "    }\n",
              "\n",
              "    .dataframe tbody tr th {\n",
              "        vertical-align: top;\n",
              "    }\n",
              "\n",
              "    .dataframe thead th {\n",
              "        text-align: right;\n",
              "    }\n",
              "</style>\n",
              "<table border=\"1\" class=\"dataframe\">\n",
              "  <thead>\n",
              "    <tr style=\"text-align: right;\">\n",
              "      <th></th>\n",
              "      <th>state</th>\n",
              "      <th>state_po</th>\n",
              "      <th>county</th>\n",
              "      <th>FIPS</th>\n",
              "      <th>candidate</th>\n",
              "      <th>party</th>\n",
              "      <th>candidatevotes</th>\n",
              "      <th>totalvotes</th>\n",
              "    </tr>\n",
              "  </thead>\n",
              "  <tbody>\n",
              "    <tr>\n",
              "      <th>40517</th>\n",
              "      <td>Alabama</td>\n",
              "      <td>AL</td>\n",
              "      <td>Autauga</td>\n",
              "      <td>1001.0</td>\n",
              "      <td>Hillary Clinton</td>\n",
              "      <td>democrat</td>\n",
              "      <td>5936.0</td>\n",
              "      <td>24973</td>\n",
              "    </tr>\n",
              "    <tr>\n",
              "      <th>40518</th>\n",
              "      <td>Alabama</td>\n",
              "      <td>AL</td>\n",
              "      <td>Autauga</td>\n",
              "      <td>1001.0</td>\n",
              "      <td>Donald Trump</td>\n",
              "      <td>republican</td>\n",
              "      <td>18172.0</td>\n",
              "      <td>24973</td>\n",
              "    </tr>\n",
              "    <tr>\n",
              "      <th>40519</th>\n",
              "      <td>Alabama</td>\n",
              "      <td>AL</td>\n",
              "      <td>Autauga</td>\n",
              "      <td>1001.0</td>\n",
              "      <td>Other</td>\n",
              "      <td>NaN</td>\n",
              "      <td>865.0</td>\n",
              "      <td>24973</td>\n",
              "    </tr>\n",
              "    <tr>\n",
              "      <th>40520</th>\n",
              "      <td>Alabama</td>\n",
              "      <td>AL</td>\n",
              "      <td>Baldwin</td>\n",
              "      <td>1003.0</td>\n",
              "      <td>Hillary Clinton</td>\n",
              "      <td>democrat</td>\n",
              "      <td>18458.0</td>\n",
              "      <td>95215</td>\n",
              "    </tr>\n",
              "    <tr>\n",
              "      <th>40521</th>\n",
              "      <td>Alabama</td>\n",
              "      <td>AL</td>\n",
              "      <td>Baldwin</td>\n",
              "      <td>1003.0</td>\n",
              "      <td>Donald Trump</td>\n",
              "      <td>republican</td>\n",
              "      <td>72883.0</td>\n",
              "      <td>95215</td>\n",
              "    </tr>\n",
              "  </tbody>\n",
              "</table>\n",
              "</div>"
            ],
            "text/plain": [
              "         state state_po   county  ...       party candidatevotes totalvotes\n",
              "40517  Alabama       AL  Autauga  ...    democrat         5936.0      24973\n",
              "40518  Alabama       AL  Autauga  ...  republican        18172.0      24973\n",
              "40519  Alabama       AL  Autauga  ...         NaN          865.0      24973\n",
              "40520  Alabama       AL  Baldwin  ...    democrat        18458.0      95215\n",
              "40521  Alabama       AL  Baldwin  ...  republican        72883.0      95215\n",
              "\n",
              "[5 rows x 8 columns]"
            ]
          },
          "metadata": {
            "tags": []
          },
          "execution_count": 48
        }
      ]
    },
    {
      "cell_type": "code",
      "metadata": {
        "colab": {
          "base_uri": "https://localhost:8080/"
        },
        "id": "wNS5FSpDMkKx",
        "outputId": "211eb7f2-7322-43e4-9277-7ca01a275e74"
      },
      "source": [
        "pe[\"state_po\"].nunique()"
      ],
      "execution_count": 49,
      "outputs": [
        {
          "output_type": "execute_result",
          "data": {
            "text/plain": [
              "51"
            ]
          },
          "metadata": {
            "tags": []
          },
          "execution_count": 49
        }
      ]
    },
    {
      "cell_type": "markdown",
      "metadata": {
        "id": "cwMgT8JtOtzi"
      },
      "source": [
        "The state_po column is an abbreviation of the state name (and Washington D.C., which is not technically a state but participates in presidential election regardless).\n",
        "As such, it has no unique information and we are free to drop it."
      ]
    },
    {
      "cell_type": "code",
      "metadata": {
        "id": "Xpf3KkrENShk"
      },
      "source": [
        "pe = pe.drop(labels=\"state_po\", axis=1)"
      ],
      "execution_count": 50,
      "outputs": []
    },
    {
      "cell_type": "code",
      "metadata": {
        "colab": {
          "base_uri": "https://localhost:8080/",
          "height": 204
        },
        "id": "ulEzOqDWN6Wx",
        "outputId": "fb136769-3c92-42a9-f541-585eb1bc484e"
      },
      "source": [
        "pe[pe.party.isnull()].head()"
      ],
      "execution_count": 51,
      "outputs": [
        {
          "output_type": "execute_result",
          "data": {
            "text/html": [
              "<div>\n",
              "<style scoped>\n",
              "    .dataframe tbody tr th:only-of-type {\n",
              "        vertical-align: middle;\n",
              "    }\n",
              "\n",
              "    .dataframe tbody tr th {\n",
              "        vertical-align: top;\n",
              "    }\n",
              "\n",
              "    .dataframe thead th {\n",
              "        text-align: right;\n",
              "    }\n",
              "</style>\n",
              "<table border=\"1\" class=\"dataframe\">\n",
              "  <thead>\n",
              "    <tr style=\"text-align: right;\">\n",
              "      <th></th>\n",
              "      <th>state</th>\n",
              "      <th>county</th>\n",
              "      <th>FIPS</th>\n",
              "      <th>candidate</th>\n",
              "      <th>party</th>\n",
              "      <th>candidatevotes</th>\n",
              "      <th>totalvotes</th>\n",
              "    </tr>\n",
              "  </thead>\n",
              "  <tbody>\n",
              "    <tr>\n",
              "      <th>40519</th>\n",
              "      <td>Alabama</td>\n",
              "      <td>Autauga</td>\n",
              "      <td>1001.0</td>\n",
              "      <td>Other</td>\n",
              "      <td>NaN</td>\n",
              "      <td>865.0</td>\n",
              "      <td>24973</td>\n",
              "    </tr>\n",
              "    <tr>\n",
              "      <th>40522</th>\n",
              "      <td>Alabama</td>\n",
              "      <td>Baldwin</td>\n",
              "      <td>1003.0</td>\n",
              "      <td>Other</td>\n",
              "      <td>NaN</td>\n",
              "      <td>3874.0</td>\n",
              "      <td>95215</td>\n",
              "    </tr>\n",
              "    <tr>\n",
              "      <th>40525</th>\n",
              "      <td>Alabama</td>\n",
              "      <td>Barbour</td>\n",
              "      <td>1005.0</td>\n",
              "      <td>Other</td>\n",
              "      <td>NaN</td>\n",
              "      <td>144.0</td>\n",
              "      <td>10469</td>\n",
              "    </tr>\n",
              "    <tr>\n",
              "      <th>40528</th>\n",
              "      <td>Alabama</td>\n",
              "      <td>Bibb</td>\n",
              "      <td>1007.0</td>\n",
              "      <td>Other</td>\n",
              "      <td>NaN</td>\n",
              "      <td>207.0</td>\n",
              "      <td>8819</td>\n",
              "    </tr>\n",
              "    <tr>\n",
              "      <th>40531</th>\n",
              "      <td>Alabama</td>\n",
              "      <td>Blount</td>\n",
              "      <td>1009.0</td>\n",
              "      <td>Other</td>\n",
              "      <td>NaN</td>\n",
              "      <td>573.0</td>\n",
              "      <td>25588</td>\n",
              "    </tr>\n",
              "  </tbody>\n",
              "</table>\n",
              "</div>"
            ],
            "text/plain": [
              "         state   county    FIPS candidate party  candidatevotes  totalvotes\n",
              "40519  Alabama  Autauga  1001.0     Other   NaN           865.0       24973\n",
              "40522  Alabama  Baldwin  1003.0     Other   NaN          3874.0       95215\n",
              "40525  Alabama  Barbour  1005.0     Other   NaN           144.0       10469\n",
              "40528  Alabama     Bibb  1007.0     Other   NaN           207.0        8819\n",
              "40531  Alabama   Blount  1009.0     Other   NaN           573.0       25588"
            ]
          },
          "metadata": {
            "tags": []
          },
          "execution_count": 51
        }
      ]
    },
    {
      "cell_type": "code",
      "metadata": {
        "colab": {
          "base_uri": "https://localhost:8080/"
        },
        "id": "pJ0cfKOrPGcE",
        "outputId": "84b41778-c904-4f4e-d685-d5aee77c59bc"
      },
      "source": [
        "pe[pe.party.isnull()].candidate.value_counts()"
      ],
      "execution_count": 52,
      "outputs": [
        {
          "output_type": "execute_result",
          "data": {
            "text/plain": [
              "Other    3158\n",
              "Name: candidate, dtype: int64"
            ]
          },
          "metadata": {
            "tags": []
          },
          "execution_count": 52
        }
      ]
    },
    {
      "cell_type": "markdown",
      "metadata": {
        "id": "95P55k4iPhmS"
      },
      "source": [
        "The only cases where a party value is missing is when the votes are for a third party candidate - or an independent. There are cases where a distinction between third party candidates and independent candidates may matter, but not when our primary analysis is of differences between Hilary and Donald.\n",
        "\n",
        "We'll treat NaN values in the party column as Other."
      ]
    },
    {
      "cell_type": "code",
      "metadata": {
        "id": "G_O-q7QfSFp7"
      },
      "source": [
        "pe.party = pe.party.fillna(\"Other\")"
      ],
      "execution_count": 53,
      "outputs": []
    },
    {
      "cell_type": "markdown",
      "metadata": {
        "id": "uMlHZl5WSi1L"
      },
      "source": [
        "Look at remaining missing values."
      ]
    },
    {
      "cell_type": "code",
      "metadata": {
        "colab": {
          "base_uri": "https://localhost:8080/",
          "height": 421
        },
        "id": "2JxYX7FRS_EL",
        "outputId": "d5b4eae4-76c0-443f-fd16-3ca677e54534"
      },
      "source": [
        "pe[pe.isnull().any(axis=1)]"
      ],
      "execution_count": 54,
      "outputs": [
        {
          "output_type": "execute_result",
          "data": {
            "text/html": [
              "<div>\n",
              "<style scoped>\n",
              "    .dataframe tbody tr th:only-of-type {\n",
              "        vertical-align: middle;\n",
              "    }\n",
              "\n",
              "    .dataframe tbody tr th {\n",
              "        vertical-align: top;\n",
              "    }\n",
              "\n",
              "    .dataframe thead th {\n",
              "        text-align: right;\n",
              "    }\n",
              "</style>\n",
              "<table border=\"1\" class=\"dataframe\">\n",
              "  <thead>\n",
              "    <tr style=\"text-align: right;\">\n",
              "      <th></th>\n",
              "      <th>state</th>\n",
              "      <th>county</th>\n",
              "      <th>FIPS</th>\n",
              "      <th>candidate</th>\n",
              "      <th>party</th>\n",
              "      <th>candidatevotes</th>\n",
              "      <th>totalvotes</th>\n",
              "    </tr>\n",
              "  </thead>\n",
              "  <tbody>\n",
              "    <tr>\n",
              "      <th>49178</th>\n",
              "      <td>Virginia</td>\n",
              "      <td>Bedford</td>\n",
              "      <td>51515.0</td>\n",
              "      <td>Hillary Clinton</td>\n",
              "      <td>democrat</td>\n",
              "      <td>NaN</td>\n",
              "      <td>0</td>\n",
              "    </tr>\n",
              "    <tr>\n",
              "      <th>49179</th>\n",
              "      <td>Virginia</td>\n",
              "      <td>Bedford</td>\n",
              "      <td>51515.0</td>\n",
              "      <td>Donald Trump</td>\n",
              "      <td>republican</td>\n",
              "      <td>NaN</td>\n",
              "      <td>0</td>\n",
              "    </tr>\n",
              "    <tr>\n",
              "      <th>49180</th>\n",
              "      <td>Virginia</td>\n",
              "      <td>Bedford</td>\n",
              "      <td>51515.0</td>\n",
              "      <td>Other</td>\n",
              "      <td>Other</td>\n",
              "      <td>NaN</td>\n",
              "      <td>0</td>\n",
              "    </tr>\n",
              "    <tr>\n",
              "      <th>49859</th>\n",
              "      <td>Connecticut</td>\n",
              "      <td>Statewide writein</td>\n",
              "      <td>NaN</td>\n",
              "      <td>Hillary Clinton</td>\n",
              "      <td>democrat</td>\n",
              "      <td>NaN</td>\n",
              "      <td>5056</td>\n",
              "    </tr>\n",
              "    <tr>\n",
              "      <th>49860</th>\n",
              "      <td>Maine</td>\n",
              "      <td>Maine UOCAVA</td>\n",
              "      <td>NaN</td>\n",
              "      <td>Hillary Clinton</td>\n",
              "      <td>democrat</td>\n",
              "      <td>3017.0</td>\n",
              "      <td>5056</td>\n",
              "    </tr>\n",
              "    <tr>\n",
              "      <th>49861</th>\n",
              "      <td>Rhode Island</td>\n",
              "      <td>Federal Precinct</td>\n",
              "      <td>NaN</td>\n",
              "      <td>Hillary Clinton</td>\n",
              "      <td>democrat</td>\n",
              "      <td>637.0</td>\n",
              "      <td>5056</td>\n",
              "    </tr>\n",
              "    <tr>\n",
              "      <th>49862</th>\n",
              "      <td>Connecticut</td>\n",
              "      <td>Statewide writein</td>\n",
              "      <td>NaN</td>\n",
              "      <td>Donald Trump</td>\n",
              "      <td>republican</td>\n",
              "      <td>NaN</td>\n",
              "      <td>5056</td>\n",
              "    </tr>\n",
              "    <tr>\n",
              "      <th>49863</th>\n",
              "      <td>Maine</td>\n",
              "      <td>Maine UOCAVA</td>\n",
              "      <td>NaN</td>\n",
              "      <td>Donald Trump</td>\n",
              "      <td>republican</td>\n",
              "      <td>648.0</td>\n",
              "      <td>5056</td>\n",
              "    </tr>\n",
              "    <tr>\n",
              "      <th>49864</th>\n",
              "      <td>Rhode Island</td>\n",
              "      <td>Federal Precinct</td>\n",
              "      <td>NaN</td>\n",
              "      <td>Donald Trump</td>\n",
              "      <td>republican</td>\n",
              "      <td>53.0</td>\n",
              "      <td>5056</td>\n",
              "    </tr>\n",
              "    <tr>\n",
              "      <th>49865</th>\n",
              "      <td>Connecticut</td>\n",
              "      <td>Statewide writein</td>\n",
              "      <td>NaN</td>\n",
              "      <td>Other</td>\n",
              "      <td>Other</td>\n",
              "      <td>NaN</td>\n",
              "      <td>5056</td>\n",
              "    </tr>\n",
              "    <tr>\n",
              "      <th>49866</th>\n",
              "      <td>Maine</td>\n",
              "      <td>Maine UOCAVA</td>\n",
              "      <td>NaN</td>\n",
              "      <td>Other</td>\n",
              "      <td>Other</td>\n",
              "      <td>321.0</td>\n",
              "      <td>5056</td>\n",
              "    </tr>\n",
              "    <tr>\n",
              "      <th>49867</th>\n",
              "      <td>Rhode Island</td>\n",
              "      <td>Federal Precinct</td>\n",
              "      <td>NaN</td>\n",
              "      <td>Other</td>\n",
              "      <td>Other</td>\n",
              "      <td>38.0</td>\n",
              "      <td>5056</td>\n",
              "    </tr>\n",
              "  </tbody>\n",
              "</table>\n",
              "</div>"
            ],
            "text/plain": [
              "              state             county  ...  candidatevotes totalvotes\n",
              "49178      Virginia            Bedford  ...             NaN          0\n",
              "49179      Virginia            Bedford  ...             NaN          0\n",
              "49180      Virginia            Bedford  ...             NaN          0\n",
              "49859   Connecticut  Statewide writein  ...             NaN       5056\n",
              "49860         Maine       Maine UOCAVA  ...          3017.0       5056\n",
              "49861  Rhode Island   Federal Precinct  ...           637.0       5056\n",
              "49862   Connecticut  Statewide writein  ...             NaN       5056\n",
              "49863         Maine       Maine UOCAVA  ...           648.0       5056\n",
              "49864  Rhode Island   Federal Precinct  ...            53.0       5056\n",
              "49865   Connecticut  Statewide writein  ...             NaN       5056\n",
              "49866         Maine       Maine UOCAVA  ...           321.0       5056\n",
              "49867  Rhode Island   Federal Precinct  ...            38.0       5056\n",
              "\n",
              "[12 rows x 7 columns]"
            ]
          },
          "metadata": {
            "tags": []
          },
          "execution_count": 54
        }
      ]
    },
    {
      "cell_type": "code",
      "metadata": {
        "colab": {
          "base_uri": "https://localhost:8080/",
          "height": 235
        },
        "id": "StOjO_64UXfB",
        "outputId": "61f8b2c6-7f64-44c3-8cb4-29b9e73a1799"
      },
      "source": [
        "pe[(pe[\"state\"] == \"Virginia\") & (pe[\"county\"] == \"Bedford\")]"
      ],
      "execution_count": 55,
      "outputs": [
        {
          "output_type": "execute_result",
          "data": {
            "text/html": [
              "<div>\n",
              "<style scoped>\n",
              "    .dataframe tbody tr th:only-of-type {\n",
              "        vertical-align: middle;\n",
              "    }\n",
              "\n",
              "    .dataframe tbody tr th {\n",
              "        vertical-align: top;\n",
              "    }\n",
              "\n",
              "    .dataframe thead th {\n",
              "        text-align: right;\n",
              "    }\n",
              "</style>\n",
              "<table border=\"1\" class=\"dataframe\">\n",
              "  <thead>\n",
              "    <tr style=\"text-align: right;\">\n",
              "      <th></th>\n",
              "      <th>state</th>\n",
              "      <th>county</th>\n",
              "      <th>FIPS</th>\n",
              "      <th>candidate</th>\n",
              "      <th>party</th>\n",
              "      <th>candidatevotes</th>\n",
              "      <th>totalvotes</th>\n",
              "    </tr>\n",
              "  </thead>\n",
              "  <tbody>\n",
              "    <tr>\n",
              "      <th>48917</th>\n",
              "      <td>Virginia</td>\n",
              "      <td>Bedford</td>\n",
              "      <td>51019.0</td>\n",
              "      <td>Hillary Clinton</td>\n",
              "      <td>democrat</td>\n",
              "      <td>9768.0</td>\n",
              "      <td>42525</td>\n",
              "    </tr>\n",
              "    <tr>\n",
              "      <th>48918</th>\n",
              "      <td>Virginia</td>\n",
              "      <td>Bedford</td>\n",
              "      <td>51019.0</td>\n",
              "      <td>Donald Trump</td>\n",
              "      <td>republican</td>\n",
              "      <td>30659.0</td>\n",
              "      <td>42525</td>\n",
              "    </tr>\n",
              "    <tr>\n",
              "      <th>48919</th>\n",
              "      <td>Virginia</td>\n",
              "      <td>Bedford</td>\n",
              "      <td>51019.0</td>\n",
              "      <td>Other</td>\n",
              "      <td>Other</td>\n",
              "      <td>2098.0</td>\n",
              "      <td>42525</td>\n",
              "    </tr>\n",
              "    <tr>\n",
              "      <th>49178</th>\n",
              "      <td>Virginia</td>\n",
              "      <td>Bedford</td>\n",
              "      <td>51515.0</td>\n",
              "      <td>Hillary Clinton</td>\n",
              "      <td>democrat</td>\n",
              "      <td>NaN</td>\n",
              "      <td>0</td>\n",
              "    </tr>\n",
              "    <tr>\n",
              "      <th>49179</th>\n",
              "      <td>Virginia</td>\n",
              "      <td>Bedford</td>\n",
              "      <td>51515.0</td>\n",
              "      <td>Donald Trump</td>\n",
              "      <td>republican</td>\n",
              "      <td>NaN</td>\n",
              "      <td>0</td>\n",
              "    </tr>\n",
              "    <tr>\n",
              "      <th>49180</th>\n",
              "      <td>Virginia</td>\n",
              "      <td>Bedford</td>\n",
              "      <td>51515.0</td>\n",
              "      <td>Other</td>\n",
              "      <td>Other</td>\n",
              "      <td>NaN</td>\n",
              "      <td>0</td>\n",
              "    </tr>\n",
              "  </tbody>\n",
              "</table>\n",
              "</div>"
            ],
            "text/plain": [
              "          state   county     FIPS  ...       party candidatevotes  totalvotes\n",
              "48917  Virginia  Bedford  51019.0  ...    democrat         9768.0       42525\n",
              "48918  Virginia  Bedford  51019.0  ...  republican        30659.0       42525\n",
              "48919  Virginia  Bedford  51019.0  ...       Other         2098.0       42525\n",
              "49178  Virginia  Bedford  51515.0  ...    democrat            NaN           0\n",
              "49179  Virginia  Bedford  51515.0  ...  republican            NaN           0\n",
              "49180  Virginia  Bedford  51515.0  ...       Other            NaN           0\n",
              "\n",
              "[6 rows x 7 columns]"
            ]
          },
          "metadata": {
            "tags": []
          },
          "execution_count": 55
        }
      ]
    },
    {
      "cell_type": "markdown",
      "metadata": {
        "id": "ZJugCeuEUbTI"
      },
      "source": [
        "The vote data presented under FIPS (Federal Information Processing Standards, an american location census code system) 51019 matches that presented by the [Virginia Department of Elections](https://results.elections.virginia.gov/vaelections/2016%20November%20General/Site/Locality/BEDFORD%20COUNTY/Index.html), and FIPS 51515 seems to be a [legacy census code](https://www.ddorn.net/data/FIPS_County_Code_Changes.pdf) - it existing in this dataset at all is an oversight. We are free to drop these rows."
      ]
    },
    {
      "cell_type": "code",
      "metadata": {
        "id": "pZE_853nV40R"
      },
      "source": [
        "pe = pe[pe[\"FIPS\"] != 51515]"
      ],
      "execution_count": 56,
      "outputs": []
    },
    {
      "cell_type": "markdown",
      "metadata": {
        "id": "ok37mpIhk6BF"
      },
      "source": [
        "Looks like the rest of our missing values are primarily due to non-existent FIPS values - this is due to the voters being grouped by some factor other than geographic - [overseas military personnel](https://www.maine.gov/sos/cec/elec/voter-info/uocava.html), [state-wide voting for candidates that are not on the ballot](https://en.wikipedia.org/wiki/Write-in_candidate), and so on.\n",
        "\n",
        "There also seems to have been a mistake in the original dataset that grouped all these different groups of voters together, even though normally they would be associated with specific states."
      ]
    },
    {
      "cell_type": "code",
      "metadata": {
        "colab": {
          "base_uri": "https://localhost:8080/",
          "height": 421
        },
        "id": "S_LYjTNHh8Pe",
        "outputId": "cea3efdd-33c4-463c-a4b6-4e1f9ed9b125"
      },
      "source": [
        "pe[pe[\"totalvotes\"] == 5056]"
      ],
      "execution_count": 57,
      "outputs": [
        {
          "output_type": "execute_result",
          "data": {
            "text/html": [
              "<div>\n",
              "<style scoped>\n",
              "    .dataframe tbody tr th:only-of-type {\n",
              "        vertical-align: middle;\n",
              "    }\n",
              "\n",
              "    .dataframe tbody tr th {\n",
              "        vertical-align: top;\n",
              "    }\n",
              "\n",
              "    .dataframe thead th {\n",
              "        text-align: right;\n",
              "    }\n",
              "</style>\n",
              "<table border=\"1\" class=\"dataframe\">\n",
              "  <thead>\n",
              "    <tr style=\"text-align: right;\">\n",
              "      <th></th>\n",
              "      <th>state</th>\n",
              "      <th>county</th>\n",
              "      <th>FIPS</th>\n",
              "      <th>candidate</th>\n",
              "      <th>party</th>\n",
              "      <th>candidatevotes</th>\n",
              "      <th>totalvotes</th>\n",
              "    </tr>\n",
              "  </thead>\n",
              "  <tbody>\n",
              "    <tr>\n",
              "      <th>49859</th>\n",
              "      <td>Connecticut</td>\n",
              "      <td>Statewide writein</td>\n",
              "      <td>NaN</td>\n",
              "      <td>Hillary Clinton</td>\n",
              "      <td>democrat</td>\n",
              "      <td>NaN</td>\n",
              "      <td>5056</td>\n",
              "    </tr>\n",
              "    <tr>\n",
              "      <th>49860</th>\n",
              "      <td>Maine</td>\n",
              "      <td>Maine UOCAVA</td>\n",
              "      <td>NaN</td>\n",
              "      <td>Hillary Clinton</td>\n",
              "      <td>democrat</td>\n",
              "      <td>3017.0</td>\n",
              "      <td>5056</td>\n",
              "    </tr>\n",
              "    <tr>\n",
              "      <th>49861</th>\n",
              "      <td>Rhode Island</td>\n",
              "      <td>Federal Precinct</td>\n",
              "      <td>NaN</td>\n",
              "      <td>Hillary Clinton</td>\n",
              "      <td>democrat</td>\n",
              "      <td>637.0</td>\n",
              "      <td>5056</td>\n",
              "    </tr>\n",
              "    <tr>\n",
              "      <th>49862</th>\n",
              "      <td>Connecticut</td>\n",
              "      <td>Statewide writein</td>\n",
              "      <td>NaN</td>\n",
              "      <td>Donald Trump</td>\n",
              "      <td>republican</td>\n",
              "      <td>NaN</td>\n",
              "      <td>5056</td>\n",
              "    </tr>\n",
              "    <tr>\n",
              "      <th>49863</th>\n",
              "      <td>Maine</td>\n",
              "      <td>Maine UOCAVA</td>\n",
              "      <td>NaN</td>\n",
              "      <td>Donald Trump</td>\n",
              "      <td>republican</td>\n",
              "      <td>648.0</td>\n",
              "      <td>5056</td>\n",
              "    </tr>\n",
              "    <tr>\n",
              "      <th>49864</th>\n",
              "      <td>Rhode Island</td>\n",
              "      <td>Federal Precinct</td>\n",
              "      <td>NaN</td>\n",
              "      <td>Donald Trump</td>\n",
              "      <td>republican</td>\n",
              "      <td>53.0</td>\n",
              "      <td>5056</td>\n",
              "    </tr>\n",
              "    <tr>\n",
              "      <th>49865</th>\n",
              "      <td>Connecticut</td>\n",
              "      <td>Statewide writein</td>\n",
              "      <td>NaN</td>\n",
              "      <td>Other</td>\n",
              "      <td>Other</td>\n",
              "      <td>NaN</td>\n",
              "      <td>5056</td>\n",
              "    </tr>\n",
              "    <tr>\n",
              "      <th>49866</th>\n",
              "      <td>Maine</td>\n",
              "      <td>Maine UOCAVA</td>\n",
              "      <td>NaN</td>\n",
              "      <td>Other</td>\n",
              "      <td>Other</td>\n",
              "      <td>321.0</td>\n",
              "      <td>5056</td>\n",
              "    </tr>\n",
              "    <tr>\n",
              "      <th>49867</th>\n",
              "      <td>Rhode Island</td>\n",
              "      <td>Federal Precinct</td>\n",
              "      <td>NaN</td>\n",
              "      <td>Other</td>\n",
              "      <td>Other</td>\n",
              "      <td>38.0</td>\n",
              "      <td>5056</td>\n",
              "    </tr>\n",
              "    <tr>\n",
              "      <th>50521</th>\n",
              "      <td>Alaska</td>\n",
              "      <td>District 99</td>\n",
              "      <td>2099.0</td>\n",
              "      <td>Hillary Clinton</td>\n",
              "      <td>democrat</td>\n",
              "      <td>274.0</td>\n",
              "      <td>5056</td>\n",
              "    </tr>\n",
              "    <tr>\n",
              "      <th>50522</th>\n",
              "      <td>Alaska</td>\n",
              "      <td>District 99</td>\n",
              "      <td>2099.0</td>\n",
              "      <td>Donald Trump</td>\n",
              "      <td>republican</td>\n",
              "      <td>40.0</td>\n",
              "      <td>5056</td>\n",
              "    </tr>\n",
              "    <tr>\n",
              "      <th>50523</th>\n",
              "      <td>Alaska</td>\n",
              "      <td>District 99</td>\n",
              "      <td>2099.0</td>\n",
              "      <td>Other</td>\n",
              "      <td>Other</td>\n",
              "      <td>28.0</td>\n",
              "      <td>5056</td>\n",
              "    </tr>\n",
              "  </tbody>\n",
              "</table>\n",
              "</div>"
            ],
            "text/plain": [
              "              state             county  ...  candidatevotes totalvotes\n",
              "49859   Connecticut  Statewide writein  ...             NaN       5056\n",
              "49860         Maine       Maine UOCAVA  ...          3017.0       5056\n",
              "49861  Rhode Island   Federal Precinct  ...           637.0       5056\n",
              "49862   Connecticut  Statewide writein  ...             NaN       5056\n",
              "49863         Maine       Maine UOCAVA  ...           648.0       5056\n",
              "49864  Rhode Island   Federal Precinct  ...            53.0       5056\n",
              "49865   Connecticut  Statewide writein  ...             NaN       5056\n",
              "49866         Maine       Maine UOCAVA  ...           321.0       5056\n",
              "49867  Rhode Island   Federal Precinct  ...            38.0       5056\n",
              "50521        Alaska        District 99  ...           274.0       5056\n",
              "50522        Alaska        District 99  ...            40.0       5056\n",
              "50523        Alaska        District 99  ...            28.0       5056\n",
              "\n",
              "[12 rows x 7 columns]"
            ]
          },
          "metadata": {
            "tags": []
          },
          "execution_count": 57
        }
      ]
    },
    {
      "cell_type": "markdown",
      "metadata": {
        "id": "5YtH3QL1mw2-"
      },
      "source": [
        "Our plan is to combine county-level voting data with county-level demographic data. We don't have demographic data easily available for these non-geographic groups, and the relatively small size of the vote results means that it will not be particularly worth it to try to retrieve demographic data about them through other channels.\n",
        "\n",
        "Dropping the data is fine here."
      ]
    },
    {
      "cell_type": "code",
      "metadata": {
        "id": "yH6MRVLioG20"
      },
      "source": [
        "pe = pe[pe[\"totalvotes\"] != 5056]\n",
        "\n",
        "pe[[\"FIPS\", \"candidatevotes\"]] = pe[[\"FIPS\", \"candidatevotes\"]].astype(int)"
      ],
      "execution_count": 58,
      "outputs": []
    },
    {
      "cell_type": "markdown",
      "metadata": {
        "id": "LY5EyvritjiB"
      },
      "source": [
        "###Electoral college dataset"
      ]
    },
    {
      "cell_type": "markdown",
      "metadata": {
        "id": "HkO-8AA8uO7Y"
      },
      "source": [
        "This is a supplemental dataset we only really need for the state-level elector count."
      ]
    },
    {
      "cell_type": "code",
      "metadata": {
        "colab": {
          "base_uri": "https://localhost:8080/",
          "height": 284
        },
        "id": "cFHKh32NtsfD",
        "outputId": "a34d4476-c1c5-4b55-be26-6ad53a8f282f"
      },
      "source": [
        "electoral_college = electoral_college[electoral_college[\"Year\"]==2016]\n",
        "electoral_college = electoral_college.drop(\"Year\", 1)\n",
        "\n",
        "electoral_college.replace(\"D.C.\", value=\"District of Columbia\", inplace=True)\n",
        "\n",
        "electoral_college.Votes = electoral_college.Votes.astype(int)\n",
        "electoral_college = electoral_college.rename(columns={\"Votes\": \"electorvotes\", \"State\": \"state\"})\n",
        "\n",
        "sns.heatmap(electoral_college.isnull(), cbar=False)"
      ],
      "execution_count": 59,
      "outputs": [
        {
          "output_type": "execute_result",
          "data": {
            "text/plain": [
              "<matplotlib.axes._subplots.AxesSubplot at 0x7fcabbf307d0>"
            ]
          },
          "metadata": {
            "tags": []
          },
          "execution_count": 59
        },
        {
          "output_type": "display_data",
          "data": {
            "image/png": "[encoded data removed]",
            "text/plain": [
              "<Figure size 432x288 with 1 Axes>"
            ]
          },
          "metadata": {
            "tags": [],
            "needs_background": "light"
          }
        }
      ]
    },
    {
      "cell_type": "markdown",
      "metadata": {
        "id": "dNH2Grnkvo8J"
      },
      "source": [
        "###Dataset merge"
      ]
    },
    {
      "cell_type": "markdown",
      "metadata": {
        "id": "yyKMp09Z-5Is"
      },
      "source": [
        "Compare our two main dataframes."
      ]
    },
    {
      "cell_type": "code",
      "metadata": {
        "colab": {
          "base_uri": "https://localhost:8080/"
        },
        "id": "fd5jm8qf-yo1",
        "outputId": "6c1949e1-4b3a-433b-fe14-a7dc82ba3af4"
      },
      "source": [
        "pe.info()"
      ],
      "execution_count": 60,
      "outputs": [
        {
          "output_type": "stream",
          "text": [
            "<class 'pandas.core.frame.DataFrame'>\n",
            "Int64Index: 9459 entries, 40517 to 50520\n",
            "Data columns (total 7 columns):\n",
            " #   Column          Non-Null Count  Dtype \n",
            "---  ------          --------------  ----- \n",
            " 0   state           9459 non-null   object\n",
            " 1   county          9459 non-null   object\n",
            " 2   FIPS            9459 non-null   int64 \n",
            " 3   candidate       9459 non-null   object\n",
            " 4   party           9459 non-null   object\n",
            " 5   candidatevotes  9459 non-null   int64 \n",
            " 6   totalvotes      9459 non-null   int64 \n",
            "dtypes: int64(3), object(4)\n",
            "memory usage: 591.2+ KB\n"
          ],
          "name": "stdout"
        }
      ]
    },
    {
      "cell_type": "code",
      "metadata": {
        "colab": {
          "base_uri": "https://localhost:8080/"
        },
        "id": "J4FaZhIp-0hz",
        "outputId": "9878aa06-8731-4c0e-ef8c-c1f15f2327f4"
      },
      "source": [
        "cf.info()"
      ],
      "execution_count": 61,
      "outputs": [
        {
          "output_type": "stream",
          "text": [
            "<class 'pandas.core.frame.DataFrame'>\n",
            "Int64Index: 3143 entries, 2 to 3194\n",
            "Data columns (total 54 columns):\n",
            " #   Column              Non-Null Count  Dtype  \n",
            "---  ------              --------------  -----  \n",
            " 0   fips                3143 non-null   int64  \n",
            " 1   area_name           3143 non-null   object \n",
            " 2   state_abbreviation  3143 non-null   object \n",
            " 3   PST045214           3143 non-null   int64  \n",
            " 4   PST040210           3143 non-null   int64  \n",
            " 5   PST120214           3143 non-null   float64\n",
            " 6   POP010210           3143 non-null   int64  \n",
            " 7   AGE135214           3143 non-null   float64\n",
            " 8   AGE295214           3143 non-null   float64\n",
            " 9   AGE775214           3143 non-null   float64\n",
            " 10  SEX255214           3143 non-null   float64\n",
            " 11  RHI125214           3143 non-null   float64\n",
            " 12  RHI225214           3143 non-null   float64\n",
            " 13  RHI325214           3143 non-null   float64\n",
            " 14  RHI425214           3143 non-null   float64\n",
            " 15  RHI525214           3143 non-null   float64\n",
            " 16  RHI625214           3143 non-null   float64\n",
            " 17  RHI725214           3143 non-null   float64\n",
            " 18  RHI825214           3143 non-null   float64\n",
            " 19  POP715213           3143 non-null   float64\n",
            " 20  POP645213           3143 non-null   float64\n",
            " 21  POP815213           3143 non-null   float64\n",
            " 22  EDU635213           3143 non-null   float64\n",
            " 23  EDU685213           3143 non-null   float64\n",
            " 24  VET605213           3143 non-null   int64  \n",
            " 25  LFE305213           3143 non-null   float64\n",
            " 26  HSG010214           3143 non-null   int64  \n",
            " 27  HSG445213           3143 non-null   float64\n",
            " 28  HSG096213           3143 non-null   float64\n",
            " 29  HSG495213           3143 non-null   int64  \n",
            " 30  HSD410213           3143 non-null   int64  \n",
            " 31  HSD310213           3143 non-null   float64\n",
            " 32  INC910213           3143 non-null   int64  \n",
            " 33  INC110213           3143 non-null   int64  \n",
            " 34  PVY020213           3143 non-null   float64\n",
            " 35  BZA010213           3143 non-null   int64  \n",
            " 36  BZA110213           3143 non-null   int64  \n",
            " 37  BZA115213           3143 non-null   float64\n",
            " 38  NES010213           3143 non-null   int64  \n",
            " 39  SBO001207           3143 non-null   int64  \n",
            " 40  SBO315207           3143 non-null   float64\n",
            " 41  SBO115207           3143 non-null   float64\n",
            " 42  SBO215207           3143 non-null   float64\n",
            " 43  SBO515207           3143 non-null   float64\n",
            " 44  SBO415207           3143 non-null   float64\n",
            " 45  SBO015207           3143 non-null   float64\n",
            " 46  MAN450207           3143 non-null   int64  \n",
            " 47  WTN220207           3143 non-null   int64  \n",
            " 48  RTN130207           3143 non-null   int64  \n",
            " 49  RTN131207           3143 non-null   int64  \n",
            " 50  AFN120207           3143 non-null   int64  \n",
            " 51  BPS030214           3143 non-null   int64  \n",
            " 52  LND110210           3143 non-null   float64\n",
            " 53  POP060210           3143 non-null   float64\n",
            "dtypes: float64(32), int64(20), object(2)\n",
            "memory usage: 1.3+ MB\n"
          ],
          "name": "stdout"
        }
      ]
    },
    {
      "cell_type": "markdown",
      "metadata": {
        "id": "pEe3gq8e_sdT"
      },
      "source": [
        "We have 9459 rows in our presidential election dataset, 3 per county for an effective 3153 lines, and 3143 in the other. Lets take a look at what the differences are."
      ]
    },
    {
      "cell_type": "code",
      "metadata": {
        "colab": {
          "base_uri": "https://localhost:8080/"
        },
        "id": "hgdK55WbAQRt",
        "outputId": "d28ff250-6c99-4918-cf35-67aa77480b1b"
      },
      "source": [
        "print(set(cf[\"fips\"]) ^ set(pe[\"FIPS\"]))"
      ],
      "execution_count": 62,
      "outputs": [
        {
          "output_type": "stream",
          "text": [
            "{2026, 2030, 2010, 2012, 2014, 2018, 2032, 2022, 2024, 2001, 2002, 2003, 2004, 2005, 2006, 2007, 2008, 2009, 2011, 2015, 2017, 2019, 2021, 2023, 2025, 2027, 2028, 2029, 2031, 2033, 2034, 2037, 2035, 2040, 2050, 2036, 2060, 2038, 2039, 2068, 2070, 2090, 2100, 2105, 2110, 2122, 2130, 2150, 2164, 2170, 2180, 2185, 2188, 2195, 2198, 2220, 2230, 2240, 2261, 2270, 2275, 2282, 2290, 51515, 36000, 15005}\n"
          ],
          "name": "stdout"
        }
      ]
    },
    {
      "cell_type": "markdown",
      "metadata": {
        "id": "dzrhY0hRH4o0"
      },
      "source": [
        "There seems to be a *lot* of differences in FIPS 020XXX, which is Alaska."
      ]
    },
    {
      "cell_type": "code",
      "metadata": {
        "colab": {
          "base_uri": "https://localhost:8080/",
          "height": 377
        },
        "id": "k6RiuH8gEU45",
        "outputId": "e8cbb456-c83a-4e0c-b8c4-21268729e4d4"
      },
      "source": [
        "cf[cf[\"state_abbreviation\"] == \"AK\"].head()"
      ],
      "execution_count": 63,
      "outputs": [
        {
          "output_type": "execute_result",
          "data": {
            "text/html": [
              "<div>\n",
              "<style scoped>\n",
              "    .dataframe tbody tr th:only-of-type {\n",
              "        vertical-align: middle;\n",
              "    }\n",
              "\n",
              "    .dataframe tbody tr th {\n",
              "        vertical-align: top;\n",
              "    }\n",
              "\n",
              "    .dataframe thead th {\n",
              "        text-align: right;\n",
              "    }\n",
              "</style>\n",
              "<table border=\"1\" class=\"dataframe\">\n",
              "  <thead>\n",
              "    <tr style=\"text-align: right;\">\n",
              "      <th></th>\n",
              "      <th>fips</th>\n",
              "      <th>area_name</th>\n",
              "      <th>state_abbreviation</th>\n",
              "      <th>PST045214</th>\n",
              "      <th>PST040210</th>\n",
              "      <th>PST120214</th>\n",
              "      <th>POP010210</th>\n",
              "      <th>AGE135214</th>\n",
              "      <th>AGE295214</th>\n",
              "      <th>AGE775214</th>\n",
              "      <th>SEX255214</th>\n",
              "      <th>RHI125214</th>\n",
              "      <th>RHI225214</th>\n",
              "      <th>RHI325214</th>\n",
              "      <th>RHI425214</th>\n",
              "      <th>RHI525214</th>\n",
              "      <th>RHI625214</th>\n",
              "      <th>RHI725214</th>\n",
              "      <th>RHI825214</th>\n",
              "      <th>POP715213</th>\n",
              "      <th>POP645213</th>\n",
              "      <th>POP815213</th>\n",
              "      <th>EDU635213</th>\n",
              "      <th>EDU685213</th>\n",
              "      <th>VET605213</th>\n",
              "      <th>LFE305213</th>\n",
              "      <th>HSG010214</th>\n",
              "      <th>HSG445213</th>\n",
              "      <th>HSG096213</th>\n",
              "      <th>HSG495213</th>\n",
              "      <th>HSD410213</th>\n",
              "      <th>HSD310213</th>\n",
              "      <th>INC910213</th>\n",
              "      <th>INC110213</th>\n",
              "      <th>PVY020213</th>\n",
              "      <th>BZA010213</th>\n",
              "      <th>BZA110213</th>\n",
              "      <th>BZA115213</th>\n",
              "      <th>NES010213</th>\n",
              "      <th>SBO001207</th>\n",
              "      <th>SBO315207</th>\n",
              "      <th>SBO115207</th>\n",
              "      <th>SBO215207</th>\n",
              "      <th>SBO515207</th>\n",
              "      <th>SBO415207</th>\n",
              "      <th>SBO015207</th>\n",
              "      <th>MAN450207</th>\n",
              "      <th>WTN220207</th>\n",
              "      <th>RTN130207</th>\n",
              "      <th>RTN131207</th>\n",
              "      <th>AFN120207</th>\n",
              "      <th>BPS030214</th>\n",
              "      <th>LND110210</th>\n",
              "      <th>POP060210</th>\n",
              "    </tr>\n",
              "  </thead>\n",
              "  <tbody>\n",
              "    <tr>\n",
              "      <th>70</th>\n",
              "      <td>2013</td>\n",
              "      <td>Aleutians East Borough</td>\n",
              "      <td>AK</td>\n",
              "      <td>3360</td>\n",
              "      <td>3141</td>\n",
              "      <td>7.0</td>\n",
              "      <td>3141</td>\n",
              "      <td>2.8</td>\n",
              "      <td>10.1</td>\n",
              "      <td>6.6</td>\n",
              "      <td>30.9</td>\n",
              "      <td>22.8</td>\n",
              "      <td>12.0</td>\n",
              "      <td>20.5</td>\n",
              "      <td>40.7</td>\n",
              "      <td>0.6</td>\n",
              "      <td>3.4</td>\n",
              "      <td>13.2</td>\n",
              "      <td>11.5</td>\n",
              "      <td>77.4</td>\n",
              "      <td>56.6</td>\n",
              "      <td>63.7</td>\n",
              "      <td>78.5</td>\n",
              "      <td>12.0</td>\n",
              "      <td>99</td>\n",
              "      <td>4.8</td>\n",
              "      <td>747</td>\n",
              "      <td>54.7</td>\n",
              "      <td>15.7</td>\n",
              "      <td>118500</td>\n",
              "      <td>435</td>\n",
              "      <td>2.46</td>\n",
              "      <td>26535</td>\n",
              "      <td>61250</td>\n",
              "      <td>16.7</td>\n",
              "      <td>59</td>\n",
              "      <td>0</td>\n",
              "      <td>0.0</td>\n",
              "      <td>241</td>\n",
              "      <td>188</td>\n",
              "      <td>0.0</td>\n",
              "      <td>71.8</td>\n",
              "      <td>0.0</td>\n",
              "      <td>0.0</td>\n",
              "      <td>0.0</td>\n",
              "      <td>0.0</td>\n",
              "      <td>0</td>\n",
              "      <td>0</td>\n",
              "      <td>9326</td>\n",
              "      <td>3309</td>\n",
              "      <td>0</td>\n",
              "      <td>0</td>\n",
              "      <td>6981.94</td>\n",
              "      <td>0.4</td>\n",
              "    </tr>\n",
              "    <tr>\n",
              "      <th>71</th>\n",
              "      <td>2016</td>\n",
              "      <td>Aleutians West Census Area</td>\n",
              "      <td>AK</td>\n",
              "      <td>5750</td>\n",
              "      <td>5561</td>\n",
              "      <td>3.4</td>\n",
              "      <td>5561</td>\n",
              "      <td>3.6</td>\n",
              "      <td>12.3</td>\n",
              "      <td>5.4</td>\n",
              "      <td>32.4</td>\n",
              "      <td>37.8</td>\n",
              "      <td>7.6</td>\n",
              "      <td>13.0</td>\n",
              "      <td>34.5</td>\n",
              "      <td>2.3</td>\n",
              "      <td>4.7</td>\n",
              "      <td>14.1</td>\n",
              "      <td>26.9</td>\n",
              "      <td>81.5</td>\n",
              "      <td>34.9</td>\n",
              "      <td>47.4</td>\n",
              "      <td>82.7</td>\n",
              "      <td>13.3</td>\n",
              "      <td>354</td>\n",
              "      <td>6.4</td>\n",
              "      <td>1932</td>\n",
              "      <td>36.4</td>\n",
              "      <td>44.2</td>\n",
              "      <td>218400</td>\n",
              "      <td>1033</td>\n",
              "      <td>3.52</td>\n",
              "      <td>31790</td>\n",
              "      <td>81853</td>\n",
              "      <td>9.2</td>\n",
              "      <td>117</td>\n",
              "      <td>4668</td>\n",
              "      <td>1.9</td>\n",
              "      <td>254</td>\n",
              "      <td>285</td>\n",
              "      <td>0.0</td>\n",
              "      <td>0.0</td>\n",
              "      <td>0.0</td>\n",
              "      <td>0.0</td>\n",
              "      <td>0.0</td>\n",
              "      <td>26.3</td>\n",
              "      <td>634809</td>\n",
              "      <td>62073</td>\n",
              "      <td>46785</td>\n",
              "      <td>9823</td>\n",
              "      <td>14684</td>\n",
              "      <td>2</td>\n",
              "      <td>4390.28</td>\n",
              "      <td>1.3</td>\n",
              "    </tr>\n",
              "    <tr>\n",
              "      <th>72</th>\n",
              "      <td>2020</td>\n",
              "      <td>Anchorage Municipality</td>\n",
              "      <td>AK</td>\n",
              "      <td>301010</td>\n",
              "      <td>291826</td>\n",
              "      <td>3.1</td>\n",
              "      <td>291826</td>\n",
              "      <td>7.4</td>\n",
              "      <td>24.9</td>\n",
              "      <td>8.9</td>\n",
              "      <td>48.6</td>\n",
              "      <td>66.1</td>\n",
              "      <td>6.3</td>\n",
              "      <td>8.2</td>\n",
              "      <td>9.2</td>\n",
              "      <td>2.4</td>\n",
              "      <td>7.8</td>\n",
              "      <td>8.9</td>\n",
              "      <td>59.7</td>\n",
              "      <td>79.5</td>\n",
              "      <td>9.4</td>\n",
              "      <td>17.3</td>\n",
              "      <td>92.5</td>\n",
              "      <td>32.8</td>\n",
              "      <td>30292</td>\n",
              "      <td>19.4</td>\n",
              "      <td>114332</td>\n",
              "      <td>60.6</td>\n",
              "      <td>33.6</td>\n",
              "      <td>282800</td>\n",
              "      <td>105208</td>\n",
              "      <td>2.73</td>\n",
              "      <td>36214</td>\n",
              "      <td>77454</td>\n",
              "      <td>7.9</td>\n",
              "      <td>8609</td>\n",
              "      <td>152377</td>\n",
              "      <td>4.5</td>\n",
              "      <td>19252</td>\n",
              "      <td>26726</td>\n",
              "      <td>2.5</td>\n",
              "      <td>5.7</td>\n",
              "      <td>5.3</td>\n",
              "      <td>0.0</td>\n",
              "      <td>3.1</td>\n",
              "      <td>30.2</td>\n",
              "      <td>0</td>\n",
              "      <td>2914025</td>\n",
              "      <td>4482714</td>\n",
              "      <td>16096</td>\n",
              "      <td>933301</td>\n",
              "      <td>770</td>\n",
              "      <td>1704.68</td>\n",
              "      <td>171.2</td>\n",
              "    </tr>\n",
              "    <tr>\n",
              "      <th>73</th>\n",
              "      <td>2050</td>\n",
              "      <td>Bethel Census Area</td>\n",
              "      <td>AK</td>\n",
              "      <td>17868</td>\n",
              "      <td>17013</td>\n",
              "      <td>5.0</td>\n",
              "      <td>17013</td>\n",
              "      <td>11.1</td>\n",
              "      <td>36.1</td>\n",
              "      <td>6.6</td>\n",
              "      <td>48.3</td>\n",
              "      <td>12.1</td>\n",
              "      <td>0.8</td>\n",
              "      <td>81.7</td>\n",
              "      <td>1.1</td>\n",
              "      <td>0.2</td>\n",
              "      <td>4.1</td>\n",
              "      <td>1.8</td>\n",
              "      <td>11.5</td>\n",
              "      <td>85.2</td>\n",
              "      <td>1.2</td>\n",
              "      <td>66.7</td>\n",
              "      <td>79.5</td>\n",
              "      <td>11.7</td>\n",
              "      <td>909</td>\n",
              "      <td>7.4</td>\n",
              "      <td>5920</td>\n",
              "      <td>64.2</td>\n",
              "      <td>13.0</td>\n",
              "      <td>189600</td>\n",
              "      <td>4358</td>\n",
              "      <td>3.90</td>\n",
              "      <td>18497</td>\n",
              "      <td>51689</td>\n",
              "      <td>22.8</td>\n",
              "      <td>232</td>\n",
              "      <td>3174</td>\n",
              "      <td>0.3</td>\n",
              "      <td>1079</td>\n",
              "      <td>1238</td>\n",
              "      <td>0.0</td>\n",
              "      <td>54.7</td>\n",
              "      <td>0.0</td>\n",
              "      <td>0.0</td>\n",
              "      <td>0.0</td>\n",
              "      <td>20.8</td>\n",
              "      <td>0</td>\n",
              "      <td>3454</td>\n",
              "      <td>96755</td>\n",
              "      <td>5658</td>\n",
              "      <td>4091</td>\n",
              "      <td>11</td>\n",
              "      <td>40570.00</td>\n",
              "      <td>0.4</td>\n",
              "    </tr>\n",
              "    <tr>\n",
              "      <th>74</th>\n",
              "      <td>2060</td>\n",
              "      <td>Bristol Bay Borough</td>\n",
              "      <td>AK</td>\n",
              "      <td>957</td>\n",
              "      <td>997</td>\n",
              "      <td>-4.0</td>\n",
              "      <td>997</td>\n",
              "      <td>5.2</td>\n",
              "      <td>20.1</td>\n",
              "      <td>9.7</td>\n",
              "      <td>44.3</td>\n",
              "      <td>46.1</td>\n",
              "      <td>0.0</td>\n",
              "      <td>35.2</td>\n",
              "      <td>1.0</td>\n",
              "      <td>0.3</td>\n",
              "      <td>17.3</td>\n",
              "      <td>4.3</td>\n",
              "      <td>44.1</td>\n",
              "      <td>83.4</td>\n",
              "      <td>0.6</td>\n",
              "      <td>5.2</td>\n",
              "      <td>91.7</td>\n",
              "      <td>19.4</td>\n",
              "      <td>91</td>\n",
              "      <td>10.2</td>\n",
              "      <td>965</td>\n",
              "      <td>57.3</td>\n",
              "      <td>12.7</td>\n",
              "      <td>175000</td>\n",
              "      <td>384</td>\n",
              "      <td>2.42</td>\n",
              "      <td>37024</td>\n",
              "      <td>79531</td>\n",
              "      <td>7.9</td>\n",
              "      <td>66</td>\n",
              "      <td>299</td>\n",
              "      <td>-7.4</td>\n",
              "      <td>220</td>\n",
              "      <td>250</td>\n",
              "      <td>0.0</td>\n",
              "      <td>0.0</td>\n",
              "      <td>0.0</td>\n",
              "      <td>0.0</td>\n",
              "      <td>0.0</td>\n",
              "      <td>0.0</td>\n",
              "      <td>0</td>\n",
              "      <td>0</td>\n",
              "      <td>12785</td>\n",
              "      <td>12823</td>\n",
              "      <td>13278</td>\n",
              "      <td>2</td>\n",
              "      <td>503.84</td>\n",
              "      <td>2.0</td>\n",
              "    </tr>\n",
              "  </tbody>\n",
              "</table>\n",
              "</div>"
            ],
            "text/plain": [
              "    fips                   area_name  ... LND110210  POP060210\n",
              "70  2013      Aleutians East Borough  ...   6981.94        0.4\n",
              "71  2016  Aleutians West Census Area  ...   4390.28        1.3\n",
              "72  2020      Anchorage Municipality  ...   1704.68      171.2\n",
              "73  2050          Bethel Census Area  ...  40570.00        0.4\n",
              "74  2060         Bristol Bay Borough  ...    503.84        2.0\n",
              "\n",
              "[5 rows x 54 columns]"
            ]
          },
          "metadata": {
            "tags": []
          },
          "execution_count": 63
        }
      ]
    },
    {
      "cell_type": "code",
      "metadata": {
        "colab": {
          "base_uri": "https://localhost:8080/",
          "height": 204
        },
        "id": "PjFbqVjrEErh",
        "outputId": "d2ff6e46-e64c-4c29-b4fc-fefd5195af71"
      },
      "source": [
        "pe[pe[\"state\"] == \"Alaska\"].head()"
      ],
      "execution_count": 64,
      "outputs": [
        {
          "output_type": "execute_result",
          "data": {
            "text/html": [
              "<div>\n",
              "<style scoped>\n",
              "    .dataframe tbody tr th:only-of-type {\n",
              "        vertical-align: middle;\n",
              "    }\n",
              "\n",
              "    .dataframe tbody tr th {\n",
              "        vertical-align: top;\n",
              "    }\n",
              "\n",
              "    .dataframe thead th {\n",
              "        text-align: right;\n",
              "    }\n",
              "</style>\n",
              "<table border=\"1\" class=\"dataframe\">\n",
              "  <thead>\n",
              "    <tr style=\"text-align: right;\">\n",
              "      <th></th>\n",
              "      <th>state</th>\n",
              "      <th>county</th>\n",
              "      <th>FIPS</th>\n",
              "      <th>candidate</th>\n",
              "      <th>party</th>\n",
              "      <th>candidatevotes</th>\n",
              "      <th>totalvotes</th>\n",
              "    </tr>\n",
              "  </thead>\n",
              "  <tbody>\n",
              "    <tr>\n",
              "      <th>50401</th>\n",
              "      <td>Alaska</td>\n",
              "      <td>District 1</td>\n",
              "      <td>2001</td>\n",
              "      <td>Hillary Clinton</td>\n",
              "      <td>democrat</td>\n",
              "      <td>2573</td>\n",
              "      <td>6638</td>\n",
              "    </tr>\n",
              "    <tr>\n",
              "      <th>50402</th>\n",
              "      <td>Alaska</td>\n",
              "      <td>District 1</td>\n",
              "      <td>2001</td>\n",
              "      <td>Donald Trump</td>\n",
              "      <td>republican</td>\n",
              "      <td>3180</td>\n",
              "      <td>6638</td>\n",
              "    </tr>\n",
              "    <tr>\n",
              "      <th>50403</th>\n",
              "      <td>Alaska</td>\n",
              "      <td>District 1</td>\n",
              "      <td>2001</td>\n",
              "      <td>Other</td>\n",
              "      <td>Other</td>\n",
              "      <td>885</td>\n",
              "      <td>6638</td>\n",
              "    </tr>\n",
              "    <tr>\n",
              "      <th>50404</th>\n",
              "      <td>Alaska</td>\n",
              "      <td>District 2</td>\n",
              "      <td>2002</td>\n",
              "      <td>Hillary Clinton</td>\n",
              "      <td>democrat</td>\n",
              "      <td>1585</td>\n",
              "      <td>5492</td>\n",
              "    </tr>\n",
              "    <tr>\n",
              "      <th>50405</th>\n",
              "      <td>Alaska</td>\n",
              "      <td>District 2</td>\n",
              "      <td>2002</td>\n",
              "      <td>Donald Trump</td>\n",
              "      <td>republican</td>\n",
              "      <td>3188</td>\n",
              "      <td>5492</td>\n",
              "    </tr>\n",
              "  </tbody>\n",
              "</table>\n",
              "</div>"
            ],
            "text/plain": [
              "        state      county  FIPS  ...       party candidatevotes  totalvotes\n",
              "50401  Alaska  District 1  2001  ...    democrat           2573        6638\n",
              "50402  Alaska  District 1  2001  ...  republican           3180        6638\n",
              "50403  Alaska  District 1  2001  ...       Other            885        6638\n",
              "50404  Alaska  District 2  2002  ...    democrat           1585        5492\n",
              "50405  Alaska  District 2  2002  ...  republican           3188        5492\n",
              "\n",
              "[5 rows x 7 columns]"
            ]
          },
          "metadata": {
            "tags": []
          },
          "execution_count": 64
        }
      ]
    },
    {
      "cell_type": "markdown",
      "metadata": {
        "id": "nKXzOQ7pJcCc"
      },
      "source": [
        "We can see that county and FIPS designations differ vastly between the two datasets. Why is this?\n",
        "\n",
        "This is not a dataset error - it turns out [Alaska uses different geographical designations](https://www.elections.alaska.gov/Core/cityandboroughelections.php) for administrative versus election purposes.\n",
        "\n",
        "This means state-wide aggregate data will still be accurate for Alaska, but we have no good way to link voting preferences to demographic data at the county level."
      ]
    },
    {
      "cell_type": "markdown",
      "metadata": {
        "id": "x5peiw_LPGND"
      },
      "source": [
        "Lets check the remainder of our mismatches."
      ]
    },
    {
      "cell_type": "code",
      "metadata": {
        "id": "ld8eeq6aLhQo",
        "colab": {
          "base_uri": "https://localhost:8080/",
          "height": 165
        },
        "outputId": "5491646b-9756-42d3-a6e1-7f627bd012ce"
      },
      "source": [
        "cf[cf[\"fips\"].isin([15005, 36000, 51515])]"
      ],
      "execution_count": 65,
      "outputs": [
        {
          "output_type": "execute_result",
          "data": {
            "text/html": [
              "<div>\n",
              "<style scoped>\n",
              "    .dataframe tbody tr th:only-of-type {\n",
              "        vertical-align: middle;\n",
              "    }\n",
              "\n",
              "    .dataframe tbody tr th {\n",
              "        vertical-align: top;\n",
              "    }\n",
              "\n",
              "    .dataframe thead th {\n",
              "        text-align: right;\n",
              "    }\n",
              "</style>\n",
              "<table border=\"1\" class=\"dataframe\">\n",
              "  <thead>\n",
              "    <tr style=\"text-align: right;\">\n",
              "      <th></th>\n",
              "      <th>fips</th>\n",
              "      <th>area_name</th>\n",
              "      <th>state_abbreviation</th>\n",
              "      <th>PST045214</th>\n",
              "      <th>PST040210</th>\n",
              "      <th>PST120214</th>\n",
              "      <th>POP010210</th>\n",
              "      <th>AGE135214</th>\n",
              "      <th>AGE295214</th>\n",
              "      <th>AGE775214</th>\n",
              "      <th>SEX255214</th>\n",
              "      <th>RHI125214</th>\n",
              "      <th>RHI225214</th>\n",
              "      <th>RHI325214</th>\n",
              "      <th>RHI425214</th>\n",
              "      <th>RHI525214</th>\n",
              "      <th>RHI625214</th>\n",
              "      <th>RHI725214</th>\n",
              "      <th>RHI825214</th>\n",
              "      <th>POP715213</th>\n",
              "      <th>POP645213</th>\n",
              "      <th>POP815213</th>\n",
              "      <th>EDU635213</th>\n",
              "      <th>EDU685213</th>\n",
              "      <th>VET605213</th>\n",
              "      <th>LFE305213</th>\n",
              "      <th>HSG010214</th>\n",
              "      <th>HSG445213</th>\n",
              "      <th>HSG096213</th>\n",
              "      <th>HSG495213</th>\n",
              "      <th>HSD410213</th>\n",
              "      <th>HSD310213</th>\n",
              "      <th>INC910213</th>\n",
              "      <th>INC110213</th>\n",
              "      <th>PVY020213</th>\n",
              "      <th>BZA010213</th>\n",
              "      <th>BZA110213</th>\n",
              "      <th>BZA115213</th>\n",
              "      <th>NES010213</th>\n",
              "      <th>SBO001207</th>\n",
              "      <th>SBO315207</th>\n",
              "      <th>SBO115207</th>\n",
              "      <th>SBO215207</th>\n",
              "      <th>SBO515207</th>\n",
              "      <th>SBO415207</th>\n",
              "      <th>SBO015207</th>\n",
              "      <th>MAN450207</th>\n",
              "      <th>WTN220207</th>\n",
              "      <th>RTN130207</th>\n",
              "      <th>RTN131207</th>\n",
              "      <th>AFN120207</th>\n",
              "      <th>BPS030214</th>\n",
              "      <th>LND110210</th>\n",
              "      <th>POP060210</th>\n",
              "    </tr>\n",
              "  </thead>\n",
              "  <tbody>\n",
              "    <tr>\n",
              "      <th>561</th>\n",
              "      <td>15005</td>\n",
              "      <td>Kalawao County</td>\n",
              "      <td>HI</td>\n",
              "      <td>89</td>\n",
              "      <td>90</td>\n",
              "      <td>-1.1</td>\n",
              "      <td>90</td>\n",
              "      <td>0.0</td>\n",
              "      <td>0.0</td>\n",
              "      <td>29.2</td>\n",
              "      <td>52.8</td>\n",
              "      <td>28.1</td>\n",
              "      <td>0.0</td>\n",
              "      <td>0.0</td>\n",
              "      <td>7.9</td>\n",
              "      <td>48.3</td>\n",
              "      <td>15.7</td>\n",
              "      <td>1.1</td>\n",
              "      <td>27.0</td>\n",
              "      <td>90.1</td>\n",
              "      <td>19.7</td>\n",
              "      <td>33.8</td>\n",
              "      <td>87.7</td>\n",
              "      <td>41.5</td>\n",
              "      <td>3</td>\n",
              "      <td>10.0</td>\n",
              "      <td>113</td>\n",
              "      <td>0.0</td>\n",
              "      <td>25.3</td>\n",
              "      <td>0</td>\n",
              "      <td>46</td>\n",
              "      <td>1.39</td>\n",
              "      <td>45515</td>\n",
              "      <td>59375</td>\n",
              "      <td>14.7</td>\n",
              "      <td>1</td>\n",
              "      <td>0</td>\n",
              "      <td>0.0</td>\n",
              "      <td>0</td>\n",
              "      <td>0</td>\n",
              "      <td>0.0</td>\n",
              "      <td>0.0</td>\n",
              "      <td>0.0</td>\n",
              "      <td>0.0</td>\n",
              "      <td>0.0</td>\n",
              "      <td>0.0</td>\n",
              "      <td>0</td>\n",
              "      <td>0</td>\n",
              "      <td>0</td>\n",
              "      <td>0</td>\n",
              "      <td>0</td>\n",
              "      <td>0</td>\n",
              "      <td>11.99</td>\n",
              "      <td>7.5</td>\n",
              "    </tr>\n",
              "    <tr>\n",
              "      <th>2964</th>\n",
              "      <td>51515</td>\n",
              "      <td>Bedford city</td>\n",
              "      <td>VA</td>\n",
              "      <td>0</td>\n",
              "      <td>0</td>\n",
              "      <td>0.0</td>\n",
              "      <td>6222</td>\n",
              "      <td>0.0</td>\n",
              "      <td>0.0</td>\n",
              "      <td>0.0</td>\n",
              "      <td>0.0</td>\n",
              "      <td>0.0</td>\n",
              "      <td>0.0</td>\n",
              "      <td>0.0</td>\n",
              "      <td>0.0</td>\n",
              "      <td>0.0</td>\n",
              "      <td>0.0</td>\n",
              "      <td>0.0</td>\n",
              "      <td>0.0</td>\n",
              "      <td>87.5</td>\n",
              "      <td>2.1</td>\n",
              "      <td>3.9</td>\n",
              "      <td>86.3</td>\n",
              "      <td>25.0</td>\n",
              "      <td>641</td>\n",
              "      <td>18.7</td>\n",
              "      <td>0</td>\n",
              "      <td>58.7</td>\n",
              "      <td>27.6</td>\n",
              "      <td>146400</td>\n",
              "      <td>2800</td>\n",
              "      <td>2.07</td>\n",
              "      <td>22322</td>\n",
              "      <td>35593</td>\n",
              "      <td>18.7</td>\n",
              "      <td>315</td>\n",
              "      <td>3824</td>\n",
              "      <td>-11.5</td>\n",
              "      <td>387</td>\n",
              "      <td>589</td>\n",
              "      <td>8.6</td>\n",
              "      <td>0.0</td>\n",
              "      <td>0.0</td>\n",
              "      <td>0.0</td>\n",
              "      <td>0.0</td>\n",
              "      <td>24.9</td>\n",
              "      <td>0</td>\n",
              "      <td>28870</td>\n",
              "      <td>124881</td>\n",
              "      <td>19848</td>\n",
              "      <td>15426</td>\n",
              "      <td>0</td>\n",
              "      <td>6.88</td>\n",
              "      <td>904.6</td>\n",
              "    </tr>\n",
              "  </tbody>\n",
              "</table>\n",
              "</div>"
            ],
            "text/plain": [
              "       fips       area_name state_abbreviation  ...  BPS030214  LND110210  POP060210\n",
              "561   15005  Kalawao County                 HI  ...          0      11.99        7.5\n",
              "2964  51515    Bedford city                 VA  ...          0       6.88      904.6\n",
              "\n",
              "[2 rows x 54 columns]"
            ]
          },
          "metadata": {
            "tags": []
          },
          "execution_count": 65
        }
      ]
    },
    {
      "cell_type": "code",
      "metadata": {
        "id": "r4dD1rsSMLnw",
        "colab": {
          "base_uri": "https://localhost:8080/",
          "height": 142
        },
        "outputId": "34ecdfaf-31d4-4e26-883e-f9c2d0f33070"
      },
      "source": [
        "pe[pe[\"FIPS\"].isin([15005, 36000, 51515])]"
      ],
      "execution_count": 66,
      "outputs": [
        {
          "output_type": "execute_result",
          "data": {
            "text/html": [
              "<div>\n",
              "<style scoped>\n",
              "    .dataframe tbody tr th:only-of-type {\n",
              "        vertical-align: middle;\n",
              "    }\n",
              "\n",
              "    .dataframe tbody tr th {\n",
              "        vertical-align: top;\n",
              "    }\n",
              "\n",
              "    .dataframe thead th {\n",
              "        text-align: right;\n",
              "    }\n",
              "</style>\n",
              "<table border=\"1\" class=\"dataframe\">\n",
              "  <thead>\n",
              "    <tr style=\"text-align: right;\">\n",
              "      <th></th>\n",
              "      <th>state</th>\n",
              "      <th>county</th>\n",
              "      <th>FIPS</th>\n",
              "      <th>candidate</th>\n",
              "      <th>party</th>\n",
              "      <th>candidatevotes</th>\n",
              "      <th>totalvotes</th>\n",
              "    </tr>\n",
              "  </thead>\n",
              "  <tbody>\n",
              "    <tr>\n",
              "      <th>45911</th>\n",
              "      <td>Missouri</td>\n",
              "      <td>Kansas City</td>\n",
              "      <td>36000</td>\n",
              "      <td>Hillary Clinton</td>\n",
              "      <td>democrat</td>\n",
              "      <td>97735</td>\n",
              "      <td>128601</td>\n",
              "    </tr>\n",
              "    <tr>\n",
              "      <th>45912</th>\n",
              "      <td>Missouri</td>\n",
              "      <td>Kansas City</td>\n",
              "      <td>36000</td>\n",
              "      <td>Donald Trump</td>\n",
              "      <td>republican</td>\n",
              "      <td>24654</td>\n",
              "      <td>128601</td>\n",
              "    </tr>\n",
              "    <tr>\n",
              "      <th>45913</th>\n",
              "      <td>Missouri</td>\n",
              "      <td>Kansas City</td>\n",
              "      <td>36000</td>\n",
              "      <td>Other</td>\n",
              "      <td>Other</td>\n",
              "      <td>6212</td>\n",
              "      <td>128601</td>\n",
              "    </tr>\n",
              "  </tbody>\n",
              "</table>\n",
              "</div>"
            ],
            "text/plain": [
              "          state       county   FIPS  ...       party candidatevotes  totalvotes\n",
              "45911  Missouri  Kansas City  36000  ...    democrat          97735      128601\n",
              "45912  Missouri  Kansas City  36000  ...  republican          24654      128601\n",
              "45913  Missouri  Kansas City  36000  ...       Other           6212      128601\n",
              "\n",
              "[3 rows x 7 columns]"
            ]
          },
          "metadata": {
            "tags": []
          },
          "execution_count": 66
        }
      ]
    },
    {
      "cell_type": "markdown",
      "metadata": {
        "id": "xZQItVGJPsvw"
      },
      "source": [
        "Bedford city is an outdated geographical designation as we already know, and Kalawao County is small enough population-wise that we do not mind dropping it from our analysis, but Missouri's Kansas City is too large to comfortably drop.\n",
        "\n",
        "It is likely that the inclusion of Kansas City is a mistake - the FIPS of 36000 properly belongs to the state of New York, and Kansas City itself is not an electoral entity, and instead is spread over [three counties](https://www.nytimes.com/elections/2016/results/missouri) in Missouri.\n",
        "\n",
        "We are free to drop it from our dataset as well."
      ]
    },
    {
      "cell_type": "code",
      "metadata": {
        "id": "IDa6bHNMo0DW"
      },
      "source": [
        "cf.drop([561, 2964], inplace=True)\n",
        "pe.drop([45911, 45912, 45913], inplace=True)"
      ],
      "execution_count": 67,
      "outputs": []
    },
    {
      "cell_type": "markdown",
      "metadata": {
        "id": "L69poiVOtvly"
      },
      "source": [
        "We'll drop rop rows of Other candidates - we'll be focusing on Trump and Hillary.\n",
        "\n",
        "We'll also add some derived statistics to the election data. Most of these are self explanatory. The one exception to that is absolute margin - we care about that one because it's an easily trackable measure of how close an election is."
      ]
    },
    {
      "cell_type": "code",
      "metadata": {
        "colab": {
          "base_uri": "https://localhost:8080/",
          "height": 204
        },
        "id": "Rxs390kCtqzx",
        "outputId": "026c0d53-c0b0-4103-bb3e-6246d2a8be4c"
      },
      "source": [
        "pe = pe[pe[\"party\"] != \"Other\"]\n",
        "\n",
        "\n",
        "pe[\"percentvotes\"]= pe[\"candidatevotes\"] / pe[\"totalvotes\"]\n",
        "\n",
        "margin_democrat = pe.loc[pe[\"party\"] == \"democrat\", \"percentvotes\"].values - pe.loc[pe[\"party\"] == \"republican\", \"percentvotes\"].values\n",
        "pe.loc[pe[\"party\"] == \"democrat\", \"margin\"] = margin_democrat\n",
        "\n",
        "pe.loc[pe[\"party\"] == \"republican\", \"margin\"] = -1*margin_democrat\n",
        "\n",
        "pe = pe[pe[\"party\"] != \"Other\"]\n",
        "\n",
        "pe[\"absolutemargin\"] = pe[\"margin\"].abs()\n",
        "\n",
        "pe.head()"
      ],
      "execution_count": 68,
      "outputs": [
        {
          "output_type": "execute_result",
          "data": {
            "text/html": [
              "<div>\n",
              "<style scoped>\n",
              "    .dataframe tbody tr th:only-of-type {\n",
              "        vertical-align: middle;\n",
              "    }\n",
              "\n",
              "    .dataframe tbody tr th {\n",
              "        vertical-align: top;\n",
              "    }\n",
              "\n",
              "    .dataframe thead th {\n",
              "        text-align: right;\n",
              "    }\n",
              "</style>\n",
              "<table border=\"1\" class=\"dataframe\">\n",
              "  <thead>\n",
              "    <tr style=\"text-align: right;\">\n",
              "      <th></th>\n",
              "      <th>state</th>\n",
              "      <th>county</th>\n",
              "      <th>FIPS</th>\n",
              "      <th>candidate</th>\n",
              "      <th>party</th>\n",
              "      <th>candidatevotes</th>\n",
              "      <th>totalvotes</th>\n",
              "      <th>percentvotes</th>\n",
              "      <th>margin</th>\n",
              "      <th>absolutemargin</th>\n",
              "    </tr>\n",
              "  </thead>\n",
              "  <tbody>\n",
              "    <tr>\n",
              "      <th>40517</th>\n",
              "      <td>Alabama</td>\n",
              "      <td>Autauga</td>\n",
              "      <td>1001</td>\n",
              "      <td>Hillary Clinton</td>\n",
              "      <td>democrat</td>\n",
              "      <td>5936</td>\n",
              "      <td>24973</td>\n",
              "      <td>0.237697</td>\n",
              "      <td>-0.489969</td>\n",
              "      <td>0.489969</td>\n",
              "    </tr>\n",
              "    <tr>\n",
              "      <th>40518</th>\n",
              "      <td>Alabama</td>\n",
              "      <td>Autauga</td>\n",
              "      <td>1001</td>\n",
              "      <td>Donald Trump</td>\n",
              "      <td>republican</td>\n",
              "      <td>18172</td>\n",
              "      <td>24973</td>\n",
              "      <td>0.727666</td>\n",
              "      <td>0.489969</td>\n",
              "      <td>0.489969</td>\n",
              "    </tr>\n",
              "    <tr>\n",
              "      <th>40520</th>\n",
              "      <td>Alabama</td>\n",
              "      <td>Baldwin</td>\n",
              "      <td>1003</td>\n",
              "      <td>Hillary Clinton</td>\n",
              "      <td>democrat</td>\n",
              "      <td>18458</td>\n",
              "      <td>95215</td>\n",
              "      <td>0.193856</td>\n",
              "      <td>-0.571601</td>\n",
              "      <td>0.571601</td>\n",
              "    </tr>\n",
              "    <tr>\n",
              "      <th>40521</th>\n",
              "      <td>Alabama</td>\n",
              "      <td>Baldwin</td>\n",
              "      <td>1003</td>\n",
              "      <td>Donald Trump</td>\n",
              "      <td>republican</td>\n",
              "      <td>72883</td>\n",
              "      <td>95215</td>\n",
              "      <td>0.765457</td>\n",
              "      <td>0.571601</td>\n",
              "      <td>0.571601</td>\n",
              "    </tr>\n",
              "    <tr>\n",
              "      <th>40523</th>\n",
              "      <td>Alabama</td>\n",
              "      <td>Barbour</td>\n",
              "      <td>1005</td>\n",
              "      <td>Hillary Clinton</td>\n",
              "      <td>democrat</td>\n",
              "      <td>4871</td>\n",
              "      <td>10469</td>\n",
              "      <td>0.465278</td>\n",
              "      <td>-0.055688</td>\n",
              "      <td>0.055688</td>\n",
              "    </tr>\n",
              "  </tbody>\n",
              "</table>\n",
              "</div>"
            ],
            "text/plain": [
              "         state   county  FIPS  ... percentvotes    margin  absolutemargin\n",
              "40517  Alabama  Autauga  1001  ...     0.237697 -0.489969        0.489969\n",
              "40518  Alabama  Autauga  1001  ...     0.727666  0.489969        0.489969\n",
              "40520  Alabama  Baldwin  1003  ...     0.193856 -0.571601        0.571601\n",
              "40521  Alabama  Baldwin  1003  ...     0.765457  0.571601        0.571601\n",
              "40523  Alabama  Barbour  1005  ...     0.465278 -0.055688        0.055688\n",
              "\n",
              "[5 rows x 10 columns]"
            ]
          },
          "metadata": {
            "tags": []
          },
          "execution_count": 68
        }
      ]
    },
    {
      "cell_type": "markdown",
      "metadata": {
        "id": "gq9HZ3n8o_An"
      },
      "source": [
        "Join the two datasets."
      ]
    },
    {
      "cell_type": "code",
      "metadata": {
        "id": "DCxcHJYsnKHK"
      },
      "source": [
        "data = pe.merge(cf, left_on=\"FIPS\", right_on=\"fips\")\n",
        "data = data.drop([\"fips\", \"area_name\", \"state_abbreviation\"], axis=1)"
      ],
      "execution_count": 69,
      "outputs": []
    },
    {
      "cell_type": "code",
      "metadata": {
        "colab": {
          "base_uri": "https://localhost:8080/",
          "height": 309
        },
        "id": "sBMiacnWAqtm",
        "outputId": "0659ec87-2b78-4e1b-e809-410e76f7881b"
      },
      "source": [
        "data.head()"
      ],
      "execution_count": 70,
      "outputs": [
        {
          "output_type": "execute_result",
          "data": {
            "text/html": [
              "<div>\n",
              "<style scoped>\n",
              "    .dataframe tbody tr th:only-of-type {\n",
              "        vertical-align: middle;\n",
              "    }\n",
              "\n",
              "    .dataframe tbody tr th {\n",
              "        vertical-align: top;\n",
              "    }\n",
              "\n",
              "    .dataframe thead th {\n",
              "        text-align: right;\n",
              "    }\n",
              "</style>\n",
              "<table border=\"1\" class=\"dataframe\">\n",
              "  <thead>\n",
              "    <tr style=\"text-align: right;\">\n",
              "      <th></th>\n",
              "      <th>state</th>\n",
              "      <th>county</th>\n",
              "      <th>FIPS</th>\n",
              "      <th>candidate</th>\n",
              "      <th>party</th>\n",
              "      <th>candidatevotes</th>\n",
              "      <th>totalvotes</th>\n",
              "      <th>percentvotes</th>\n",
              "      <th>margin</th>\n",
              "      <th>absolutemargin</th>\n",
              "      <th>PST045214</th>\n",
              "      <th>PST040210</th>\n",
              "      <th>PST120214</th>\n",
              "      <th>POP010210</th>\n",
              "      <th>AGE135214</th>\n",
              "      <th>AGE295214</th>\n",
              "      <th>AGE775214</th>\n",
              "      <th>SEX255214</th>\n",
              "      <th>RHI125214</th>\n",
              "      <th>RHI225214</th>\n",
              "      <th>RHI325214</th>\n",
              "      <th>RHI425214</th>\n",
              "      <th>RHI525214</th>\n",
              "      <th>RHI625214</th>\n",
              "      <th>RHI725214</th>\n",
              "      <th>RHI825214</th>\n",
              "      <th>POP715213</th>\n",
              "      <th>POP645213</th>\n",
              "      <th>POP815213</th>\n",
              "      <th>EDU635213</th>\n",
              "      <th>EDU685213</th>\n",
              "      <th>VET605213</th>\n",
              "      <th>LFE305213</th>\n",
              "      <th>HSG010214</th>\n",
              "      <th>HSG445213</th>\n",
              "      <th>HSG096213</th>\n",
              "      <th>HSG495213</th>\n",
              "      <th>HSD410213</th>\n",
              "      <th>HSD310213</th>\n",
              "      <th>INC910213</th>\n",
              "      <th>INC110213</th>\n",
              "      <th>PVY020213</th>\n",
              "      <th>BZA010213</th>\n",
              "      <th>BZA110213</th>\n",
              "      <th>BZA115213</th>\n",
              "      <th>NES010213</th>\n",
              "      <th>SBO001207</th>\n",
              "      <th>SBO315207</th>\n",
              "      <th>SBO115207</th>\n",
              "      <th>SBO215207</th>\n",
              "      <th>SBO515207</th>\n",
              "      <th>SBO415207</th>\n",
              "      <th>SBO015207</th>\n",
              "      <th>MAN450207</th>\n",
              "      <th>WTN220207</th>\n",
              "      <th>RTN130207</th>\n",
              "      <th>RTN131207</th>\n",
              "      <th>AFN120207</th>\n",
              "      <th>BPS030214</th>\n",
              "      <th>LND110210</th>\n",
              "      <th>POP060210</th>\n",
              "    </tr>\n",
              "  </thead>\n",
              "  <tbody>\n",
              "    <tr>\n",
              "      <th>0</th>\n",
              "      <td>Alabama</td>\n",
              "      <td>Autauga</td>\n",
              "      <td>1001</td>\n",
              "      <td>Hillary Clinton</td>\n",
              "      <td>democrat</td>\n",
              "      <td>5936</td>\n",
              "      <td>24973</td>\n",
              "      <td>0.237697</td>\n",
              "      <td>-0.489969</td>\n",
              "      <td>0.489969</td>\n",
              "      <td>55395</td>\n",
              "      <td>54571</td>\n",
              "      <td>1.5</td>\n",
              "      <td>54571</td>\n",
              "      <td>6.0</td>\n",
              "      <td>25.2</td>\n",
              "      <td>13.8</td>\n",
              "      <td>51.4</td>\n",
              "      <td>77.9</td>\n",
              "      <td>18.7</td>\n",
              "      <td>0.5</td>\n",
              "      <td>1.1</td>\n",
              "      <td>0.1</td>\n",
              "      <td>1.8</td>\n",
              "      <td>2.7</td>\n",
              "      <td>75.6</td>\n",
              "      <td>85.0</td>\n",
              "      <td>1.6</td>\n",
              "      <td>3.5</td>\n",
              "      <td>85.6</td>\n",
              "      <td>20.9</td>\n",
              "      <td>5922</td>\n",
              "      <td>26.2</td>\n",
              "      <td>22751</td>\n",
              "      <td>76.8</td>\n",
              "      <td>8.3</td>\n",
              "      <td>136200</td>\n",
              "      <td>20071</td>\n",
              "      <td>2.71</td>\n",
              "      <td>24571</td>\n",
              "      <td>53682</td>\n",
              "      <td>12.1</td>\n",
              "      <td>817</td>\n",
              "      <td>10120</td>\n",
              "      <td>2.1</td>\n",
              "      <td>2947</td>\n",
              "      <td>4067</td>\n",
              "      <td>15.2</td>\n",
              "      <td>0.0</td>\n",
              "      <td>1.3</td>\n",
              "      <td>0.0</td>\n",
              "      <td>0.7</td>\n",
              "      <td>31.7</td>\n",
              "      <td>0</td>\n",
              "      <td>0</td>\n",
              "      <td>598175</td>\n",
              "      <td>12003</td>\n",
              "      <td>88157</td>\n",
              "      <td>131</td>\n",
              "      <td>594.44</td>\n",
              "      <td>91.8</td>\n",
              "    </tr>\n",
              "    <tr>\n",
              "      <th>1</th>\n",
              "      <td>Alabama</td>\n",
              "      <td>Autauga</td>\n",
              "      <td>1001</td>\n",
              "      <td>Donald Trump</td>\n",
              "      <td>republican</td>\n",
              "      <td>18172</td>\n",
              "      <td>24973</td>\n",
              "      <td>0.727666</td>\n",
              "      <td>0.489969</td>\n",
              "      <td>0.489969</td>\n",
              "      <td>55395</td>\n",
              "      <td>54571</td>\n",
              "      <td>1.5</td>\n",
              "      <td>54571</td>\n",
              "      <td>6.0</td>\n",
              "      <td>25.2</td>\n",
              "      <td>13.8</td>\n",
              "      <td>51.4</td>\n",
              "      <td>77.9</td>\n",
              "      <td>18.7</td>\n",
              "      <td>0.5</td>\n",
              "      <td>1.1</td>\n",
              "      <td>0.1</td>\n",
              "      <td>1.8</td>\n",
              "      <td>2.7</td>\n",
              "      <td>75.6</td>\n",
              "      <td>85.0</td>\n",
              "      <td>1.6</td>\n",
              "      <td>3.5</td>\n",
              "      <td>85.6</td>\n",
              "      <td>20.9</td>\n",
              "      <td>5922</td>\n",
              "      <td>26.2</td>\n",
              "      <td>22751</td>\n",
              "      <td>76.8</td>\n",
              "      <td>8.3</td>\n",
              "      <td>136200</td>\n",
              "      <td>20071</td>\n",
              "      <td>2.71</td>\n",
              "      <td>24571</td>\n",
              "      <td>53682</td>\n",
              "      <td>12.1</td>\n",
              "      <td>817</td>\n",
              "      <td>10120</td>\n",
              "      <td>2.1</td>\n",
              "      <td>2947</td>\n",
              "      <td>4067</td>\n",
              "      <td>15.2</td>\n",
              "      <td>0.0</td>\n",
              "      <td>1.3</td>\n",
              "      <td>0.0</td>\n",
              "      <td>0.7</td>\n",
              "      <td>31.7</td>\n",
              "      <td>0</td>\n",
              "      <td>0</td>\n",
              "      <td>598175</td>\n",
              "      <td>12003</td>\n",
              "      <td>88157</td>\n",
              "      <td>131</td>\n",
              "      <td>594.44</td>\n",
              "      <td>91.8</td>\n",
              "    </tr>\n",
              "    <tr>\n",
              "      <th>2</th>\n",
              "      <td>Alabama</td>\n",
              "      <td>Baldwin</td>\n",
              "      <td>1003</td>\n",
              "      <td>Hillary Clinton</td>\n",
              "      <td>democrat</td>\n",
              "      <td>18458</td>\n",
              "      <td>95215</td>\n",
              "      <td>0.193856</td>\n",
              "      <td>-0.571601</td>\n",
              "      <td>0.571601</td>\n",
              "      <td>200111</td>\n",
              "      <td>182265</td>\n",
              "      <td>9.8</td>\n",
              "      <td>182265</td>\n",
              "      <td>5.6</td>\n",
              "      <td>22.2</td>\n",
              "      <td>18.7</td>\n",
              "      <td>51.2</td>\n",
              "      <td>87.1</td>\n",
              "      <td>9.6</td>\n",
              "      <td>0.7</td>\n",
              "      <td>0.9</td>\n",
              "      <td>0.1</td>\n",
              "      <td>1.6</td>\n",
              "      <td>4.6</td>\n",
              "      <td>83.0</td>\n",
              "      <td>82.1</td>\n",
              "      <td>3.6</td>\n",
              "      <td>5.5</td>\n",
              "      <td>89.1</td>\n",
              "      <td>27.7</td>\n",
              "      <td>19346</td>\n",
              "      <td>25.9</td>\n",
              "      <td>107374</td>\n",
              "      <td>72.6</td>\n",
              "      <td>24.4</td>\n",
              "      <td>168600</td>\n",
              "      <td>73283</td>\n",
              "      <td>2.52</td>\n",
              "      <td>26766</td>\n",
              "      <td>50221</td>\n",
              "      <td>13.9</td>\n",
              "      <td>4871</td>\n",
              "      <td>54988</td>\n",
              "      <td>3.7</td>\n",
              "      <td>16508</td>\n",
              "      <td>19035</td>\n",
              "      <td>2.7</td>\n",
              "      <td>0.4</td>\n",
              "      <td>1.0</td>\n",
              "      <td>0.0</td>\n",
              "      <td>1.3</td>\n",
              "      <td>27.3</td>\n",
              "      <td>1410273</td>\n",
              "      <td>0</td>\n",
              "      <td>2966489</td>\n",
              "      <td>17166</td>\n",
              "      <td>436955</td>\n",
              "      <td>1384</td>\n",
              "      <td>1589.78</td>\n",
              "      <td>114.6</td>\n",
              "    </tr>\n",
              "    <tr>\n",
              "      <th>3</th>\n",
              "      <td>Alabama</td>\n",
              "      <td>Baldwin</td>\n",
              "      <td>1003</td>\n",
              "      <td>Donald Trump</td>\n",
              "      <td>republican</td>\n",
              "      <td>72883</td>\n",
              "      <td>95215</td>\n",
              "      <td>0.765457</td>\n",
              "      <td>0.571601</td>\n",
              "      <td>0.571601</td>\n",
              "      <td>200111</td>\n",
              "      <td>182265</td>\n",
              "      <td>9.8</td>\n",
              "      <td>182265</td>\n",
              "      <td>5.6</td>\n",
              "      <td>22.2</td>\n",
              "      <td>18.7</td>\n",
              "      <td>51.2</td>\n",
              "      <td>87.1</td>\n",
              "      <td>9.6</td>\n",
              "      <td>0.7</td>\n",
              "      <td>0.9</td>\n",
              "      <td>0.1</td>\n",
              "      <td>1.6</td>\n",
              "      <td>4.6</td>\n",
              "      <td>83.0</td>\n",
              "      <td>82.1</td>\n",
              "      <td>3.6</td>\n",
              "      <td>5.5</td>\n",
              "      <td>89.1</td>\n",
              "      <td>27.7</td>\n",
              "      <td>19346</td>\n",
              "      <td>25.9</td>\n",
              "      <td>107374</td>\n",
              "      <td>72.6</td>\n",
              "      <td>24.4</td>\n",
              "      <td>168600</td>\n",
              "      <td>73283</td>\n",
              "      <td>2.52</td>\n",
              "      <td>26766</td>\n",
              "      <td>50221</td>\n",
              "      <td>13.9</td>\n",
              "      <td>4871</td>\n",
              "      <td>54988</td>\n",
              "      <td>3.7</td>\n",
              "      <td>16508</td>\n",
              "      <td>19035</td>\n",
              "      <td>2.7</td>\n",
              "      <td>0.4</td>\n",
              "      <td>1.0</td>\n",
              "      <td>0.0</td>\n",
              "      <td>1.3</td>\n",
              "      <td>27.3</td>\n",
              "      <td>1410273</td>\n",
              "      <td>0</td>\n",
              "      <td>2966489</td>\n",
              "      <td>17166</td>\n",
              "      <td>436955</td>\n",
              "      <td>1384</td>\n",
              "      <td>1589.78</td>\n",
              "      <td>114.6</td>\n",
              "    </tr>\n",
              "    <tr>\n",
              "      <th>4</th>\n",
              "      <td>Alabama</td>\n",
              "      <td>Barbour</td>\n",
              "      <td>1005</td>\n",
              "      <td>Hillary Clinton</td>\n",
              "      <td>democrat</td>\n",
              "      <td>4871</td>\n",
              "      <td>10469</td>\n",
              "      <td>0.465278</td>\n",
              "      <td>-0.055688</td>\n",
              "      <td>0.055688</td>\n",
              "      <td>26887</td>\n",
              "      <td>27457</td>\n",
              "      <td>-2.1</td>\n",
              "      <td>27457</td>\n",
              "      <td>5.7</td>\n",
              "      <td>21.2</td>\n",
              "      <td>16.5</td>\n",
              "      <td>46.6</td>\n",
              "      <td>50.2</td>\n",
              "      <td>47.6</td>\n",
              "      <td>0.6</td>\n",
              "      <td>0.5</td>\n",
              "      <td>0.2</td>\n",
              "      <td>0.9</td>\n",
              "      <td>4.5</td>\n",
              "      <td>46.6</td>\n",
              "      <td>84.8</td>\n",
              "      <td>2.9</td>\n",
              "      <td>5.0</td>\n",
              "      <td>73.7</td>\n",
              "      <td>13.4</td>\n",
              "      <td>2120</td>\n",
              "      <td>24.6</td>\n",
              "      <td>11799</td>\n",
              "      <td>67.7</td>\n",
              "      <td>10.6</td>\n",
              "      <td>89200</td>\n",
              "      <td>9200</td>\n",
              "      <td>2.66</td>\n",
              "      <td>16829</td>\n",
              "      <td>32911</td>\n",
              "      <td>26.7</td>\n",
              "      <td>464</td>\n",
              "      <td>6611</td>\n",
              "      <td>-5.6</td>\n",
              "      <td>1546</td>\n",
              "      <td>1667</td>\n",
              "      <td>0.0</td>\n",
              "      <td>0.0</td>\n",
              "      <td>0.0</td>\n",
              "      <td>0.0</td>\n",
              "      <td>0.0</td>\n",
              "      <td>27.0</td>\n",
              "      <td>0</td>\n",
              "      <td>0</td>\n",
              "      <td>188337</td>\n",
              "      <td>6334</td>\n",
              "      <td>0</td>\n",
              "      <td>8</td>\n",
              "      <td>884.88</td>\n",
              "      <td>31.0</td>\n",
              "    </tr>\n",
              "  </tbody>\n",
              "</table>\n",
              "</div>"
            ],
            "text/plain": [
              "     state   county  FIPS  ... BPS030214 LND110210  POP060210\n",
              "0  Alabama  Autauga  1001  ...       131    594.44       91.8\n",
              "1  Alabama  Autauga  1001  ...       131    594.44       91.8\n",
              "2  Alabama  Baldwin  1003  ...      1384   1589.78      114.6\n",
              "3  Alabama  Baldwin  1003  ...      1384   1589.78      114.6\n",
              "4  Alabama  Barbour  1005  ...         8    884.88       31.0\n",
              "\n",
              "[5 rows x 61 columns]"
            ]
          },
          "metadata": {
            "tags": []
          },
          "execution_count": 70
        }
      ]
    },
    {
      "cell_type": "markdown",
      "metadata": {
        "id": "UOMpd4A7IYTO"
      },
      "source": [
        "##EDA: Preliminary analysis"
      ]
    },
    {
      "cell_type": "markdown",
      "metadata": {
        "id": "9q83Ra0CaWTK"
      },
      "source": [
        "###By county"
      ]
    },
    {
      "cell_type": "code",
      "metadata": {
        "colab": {
          "base_uri": "https://localhost:8080/"
        },
        "id": "up1vYoJ69hOH",
        "outputId": "58fcef05-7132-4664-9267-7cda0d7f7388"
      },
      "source": [
        "data.shape"
      ],
      "execution_count": 71,
      "outputs": [
        {
          "output_type": "execute_result",
          "data": {
            "text/plain": [
              "(6230, 61)"
            ]
          },
          "metadata": {
            "tags": []
          },
          "execution_count": 71
        }
      ]
    },
    {
      "cell_type": "markdown",
      "metadata": {
        "id": "u5Xp2edR9gL9"
      },
      "source": [
        "Our data has quite a few features, but we realistically only care about those that have a significant relationship with election results.\n",
        "\n",
        "Lets take a quick view of what those might be.\n",
        "\n",
        "First, we make a correlation matrix for all our numeric values for the democrat half of our dataset."
      ]
    },
    {
      "cell_type": "code",
      "metadata": {
        "id": "CkzxMnZLFab2"
      },
      "source": [
        "data_democrat_county = data[data[\"party\"] == \"democrat\"].loc[:,'candidatevotes':'POP060210']\n",
        "corr = data_democrat_county.corr()"
      ],
      "execution_count": 72,
      "outputs": []
    },
    {
      "cell_type": "markdown",
      "metadata": {
        "id": "5I3tVDkZFby9"
      },
      "source": [
        "Next, we make a corresponding matrix of Pearson's p-values."
      ]
    },
    {
      "cell_type": "code",
      "metadata": {
        "id": "ZqqKta7emWwE"
      },
      "source": [
        "from scipy.stats import pearsonr"
      ],
      "execution_count": 73,
      "outputs": []
    },
    {
      "cell_type": "code",
      "metadata": {
        "id": "JbGstpsD_Rt4"
      },
      "source": [
        "def corr_sig(df=None):\n",
        "    p_matrix = np.zeros(shape=(df.shape[1],df.shape[1]))\n",
        "    for col in df.columns:\n",
        "        for col2 in df.drop(col,axis=1).columns:\n",
        "            _ , p = pearsonr(df[col],df[col2])\n",
        "            p_matrix[df.columns.to_list().index(col),df.columns.to_list().index(col2)] = p\n",
        "    return p_matrix\n",
        "\n",
        "p_values = corr_sig(data_democrat_county)\n",
        "mask = np.invert( np.tril(p_values<=0.05) & (corr.abs()>=0.5) )"
      ],
      "execution_count": 74,
      "outputs": []
    },
    {
      "cell_type": "markdown",
      "metadata": {
        "id": "ywEUyGn3GHIn"
      },
      "source": [
        "And finally, we display the correlation matrix, hiding any correlations that have p values above 0.05 and correlation coefficiens below 0.5."
      ]
    },
    {
      "cell_type": "code",
      "metadata": {
        "colab": {
          "base_uri": "https://localhost:8080/",
          "height": 812
        },
        "id": "Eu5yPMhzBIe1",
        "outputId": "622f4dd8-f517-4493-f89e-f221175498e9"
      },
      "source": [
        "plt.figure(figsize=(20,20))\n",
        "sns.heatmap(corr,\n",
        "            mask=mask,\n",
        "            cmap='coolwarm', linewidths=0.5, linecolor='black', cbar_kws={'orientation': 'horizontal'})"
      ],
      "execution_count": 75,
      "outputs": [
        {
          "output_type": "execute_result",
          "data": {
            "text/plain": [
              "<matplotlib.axes._subplots.AxesSubplot at 0x7fcabdae0f10>"
            ]
          },
          "metadata": {
            "tags": []
          },
          "execution_count": 75
        },
        {
          "output_type": "display_data",
          "data": {
            "image/png": "[encoded data removed]",
            "text/plain": [
              "<Figure size 1440x1440 with 2 Axes>"
            ]
          },
          "metadata": {
            "tags": [],
            "needs_background": "light"
          }
        }
      ]
    },
    {
      "cell_type": "markdown",
      "metadata": {
        "id": "qEZEi1I5GeGo"
      },
      "source": [
        "The main values that we care about here are the percentage *margin* by which the democrats had won or lost, and the *absolute margin* of a loss in a location.\n",
        "\n",
        "Sadly, for the latter one, we can not detect any strong and significant correlations. This means we can not easily identify swing voter demographic features.\n",
        "\n",
        "We can at least determine a relationship between support for democrats and some demographic features."
      ]
    },
    {
      "cell_type": "code",
      "metadata": {
        "colab": {
          "base_uri": "https://localhost:8080/"
        },
        "id": "WEmPSrdftFPa",
        "outputId": "d6d4f87c-65fe-46b4-8a34-61deca65a5a5"
      },
      "source": [
        "corr = corr * (p_values<=0.05)\n",
        "relevant_features = (corr.loc[corr[\"margin\"].abs() >= 0.5, \"margin\"].index)\n",
        "relevant_features = relevant_features[relevant_features.isin(cfdict.keys())]\n",
        "[(x, cfdict[x]) for x in relevant_features]\n"
      ],
      "execution_count": 76,
      "outputs": [
        {
          "output_type": "execute_result",
          "data": {
            "text/plain": [
              "[('RHI125214', ['White alone, percent, 2014']),\n",
              " ('RHI825214', ['White alone, not Hispanic or Latino, percent, 2014']),\n",
              " ('HSG096213', ['Housing units in multi-unit structures, percent, 2009-2013'])]"
            ]
          },
          "metadata": {
            "tags": []
          },
          "execution_count": 76
        }
      ]
    },
    {
      "cell_type": "code",
      "metadata": {
        "colab": {
          "base_uri": "https://localhost:8080/",
          "height": 297
        },
        "id": "trvnTKaf5xqq",
        "outputId": "dc1ba7e5-2a48-49af-add0-d12caf85672d"
      },
      "source": [
        "fig, axs = plt.subplots(ncols=3, figsize=(24,6), sharey=True)\n",
        "for i in range(len(relevant_features)):\n",
        "  ax = sns.regplot(data=data_democrat_county, y=\"margin\", x=relevant_features[i], ax=axs[i], x_bins=50, ci=95)\n",
        "  axs[i].set(xlabel=cfdict[relevant_features[i]])\n",
        "\n",
        "plt.suptitle(\"Democratic percentage margin in relationship to main demographic features\")\n",
        "plt.show()"
      ],
      "execution_count": 77,
      "outputs": [
        {
          "output_type": "display_data",
          "data": {
            "image/png": "[encoded data removed]",
            "text/plain": [
              "<Figure size 1728x432 with 3 Axes>"
            ]
          },
          "metadata": {
            "tags": [],
            "needs_background": "light"
          }
        }
      ]
    },
    {
      "cell_type": "markdown",
      "metadata": {
        "id": "KmgaVoOkGMQh"
      },
      "source": [
        "As we can see, support for democrats is lower the larger the proportion of the population is white in a county. This is a finding that is not particularly surprising and is in line with the broad expectations for each of the parties.\n",
        "\n",
        "What's perhaps more interesting is what doesn't show up - democrats are broadly expected to have support from the educated, minority groups and urbanized, high density populations, but little of that seems to matter. It's perhaps possible that these features are simply not impactful enough on their own to affect the outcome, but Hillary had won the popular vote and so we would expect her base to be strongly represented in our results.\n",
        "\n",
        "It's entirely possible that our results are being marred by the fact that we're treating counties as observations - it is possible, likely even, that there are more *people* that support the democrats but less *places*.\n",
        "\n",
        "As expected, we can see that our data shows Hillary has lost in a vast majority of places. Since we know from prior knowledge that Hillary's results are at least comparable to Trump's, this is a reason to suspect that we should be careful how we interpret our data."
      ]
    },
    {
      "cell_type": "code",
      "metadata": {
        "colab": {
          "base_uri": "https://localhost:8080/",
          "height": 296
        },
        "id": "oiS1YlsKf6J5",
        "outputId": "3e381683-adc7-4147-df06-5c0aaf89c6dc"
      },
      "source": [
        "sns.histplot(data=data[data[\"candidate\"]==\"Hillary Clinton\"], x=\"margin\")\n",
        "plt.axvline(0, color=\"r\", alpha=0.5)"
      ],
      "execution_count": null,
      "outputs": [
        {
          "output_type": "execute_result",
          "data": {
            "text/plain": [
              "<matplotlib.lines.Line2D at 0x7f3d1ebeb290>"
            ]
          },
          "metadata": {
            "tags": []
          },
          "execution_count": 42
        },
        {
          "output_type": "display_data",
          "data": {
            "image/png": "[encoded data removed]",
            "text/plain": [
              "<Figure size 432x288 with 1 Axes>"
            ]
          },
          "metadata": {
            "tags": [],
            "needs_background": "light"
          }
        }
      ]
    },
    {
      "cell_type": "markdown",
      "metadata": {
        "id": "YigPKHLaUDTF"
      },
      "source": [
        "Going back a bit, the strongest influence ffor a democrat outcome we see now seems to be a proxy for urbanization, specifically, what percentage of the county lives in multi-unit appartment buildings. It is strange that this does not show up in other ways.\n",
        "\n",
        "We should do two things - try to disentagle our results from their by-county basis, and do PCA to perhaps extract information about features that are only active in a bundle."
      ]
    },
    {
      "cell_type": "markdown",
      "metadata": {
        "id": "ZDM9vmCyU0HN"
      },
      "source": [
        "### By state"
      ]
    },
    {
      "cell_type": "code",
      "metadata": {
        "colab": {
          "base_uri": "https://localhost:8080/",
          "height": 204
        },
        "id": "uGwQjLgmWMf6",
        "outputId": "59572691-5699-4c4c-f6b9-0b315d14a32e"
      },
      "source": [
        "state_pe = pe.groupby([\"state\", \"candidate\", \"party\"], as_index=False)[[\"candidatevotes\", \"totalvotes\"]].sum()\n",
        "state_pe.head()"
      ],
      "execution_count": null,
      "outputs": [
        {
          "output_type": "execute_result",
          "data": {
            "text/html": [
              "<div>\n",
              "<style scoped>\n",
              "    .dataframe tbody tr th:only-of-type {\n",
              "        vertical-align: middle;\n",
              "    }\n",
              "\n",
              "    .dataframe tbody tr th {\n",
              "        vertical-align: top;\n",
              "    }\n",
              "\n",
              "    .dataframe thead th {\n",
              "        text-align: right;\n",
              "    }\n",
              "</style>\n",
              "<table border=\"1\" class=\"dataframe\">\n",
              "  <thead>\n",
              "    <tr style=\"text-align: right;\">\n",
              "      <th></th>\n",
              "      <th>state</th>\n",
              "      <th>candidate</th>\n",
              "      <th>party</th>\n",
              "      <th>candidatevotes</th>\n",
              "      <th>totalvotes</th>\n",
              "    </tr>\n",
              "  </thead>\n",
              "  <tbody>\n",
              "    <tr>\n",
              "      <th>0</th>\n",
              "      <td>Alabama</td>\n",
              "      <td>Donald Trump</td>\n",
              "      <td>republican</td>\n",
              "      <td>1318250</td>\n",
              "      <td>2123367</td>\n",
              "    </tr>\n",
              "    <tr>\n",
              "      <th>1</th>\n",
              "      <td>Alabama</td>\n",
              "      <td>Hillary Clinton</td>\n",
              "      <td>democrat</td>\n",
              "      <td>729547</td>\n",
              "      <td>2123367</td>\n",
              "    </tr>\n",
              "    <tr>\n",
              "      <th>2</th>\n",
              "      <td>Alaska</td>\n",
              "      <td>Donald Trump</td>\n",
              "      <td>republican</td>\n",
              "      <td>163347</td>\n",
              "      <td>318056</td>\n",
              "    </tr>\n",
              "    <tr>\n",
              "      <th>3</th>\n",
              "      <td>Alaska</td>\n",
              "      <td>Hillary Clinton</td>\n",
              "      <td>democrat</td>\n",
              "      <td>116180</td>\n",
              "      <td>318056</td>\n",
              "    </tr>\n",
              "    <tr>\n",
              "      <th>4</th>\n",
              "      <td>Arizona</td>\n",
              "      <td>Donald Trump</td>\n",
              "      <td>republican</td>\n",
              "      <td>1252401</td>\n",
              "      <td>2628756</td>\n",
              "    </tr>\n",
              "  </tbody>\n",
              "</table>\n",
              "</div>"
            ],
            "text/plain": [
              "     state        candidate       party  candidatevotes  totalvotes\n",
              "0  Alabama     Donald Trump  republican         1318250     2123367\n",
              "1  Alabama  Hillary Clinton    democrat          729547     2123367\n",
              "2   Alaska     Donald Trump  republican          163347      318056\n",
              "3   Alaska  Hillary Clinton    democrat          116180      318056\n",
              "4  Arizona     Donald Trump  republican         1252401     2628756"
            ]
          },
          "metadata": {
            "tags": []
          },
          "execution_count": 43
        }
      ]
    },
    {
      "cell_type": "code",
      "metadata": {
        "id": "vPWQa6jHU2YC"
      },
      "source": [
        "state_pe[\"percentvotes\"]= state_pe[\"candidatevotes\"] / state_pe[\"totalvotes\"]\n",
        "\n",
        "margin_democrat = state_pe.loc[state_pe[\"party\"] == \"democrat\", \"percentvotes\"].values - state_pe.loc[state_pe[\"party\"] == \"republican\", \"percentvotes\"].values\n",
        "state_pe.loc[state_pe[\"party\"] == \"democrat\", \"margin\"] = margin_democrat\n",
        "\n",
        "state_pe.loc[state_pe[\"party\"] == \"republican\", \"margin\"] = -1*margin_democrat\n",
        "\n",
        "state_pe = state_pe[state_pe[\"party\"] != \"Other\"]\n",
        "\n",
        "state_pe[\"absolutemargin\"] = state_pe[\"margin\"].abs()"
      ],
      "execution_count": null,
      "outputs": []
    },
    {
      "cell_type": "code",
      "metadata": {
        "id": "UBK895nsWnWc"
      },
      "source": [
        "state_data = state_pe.merge(states, left_on=\"state\", right_on=\"area_name\")\n",
        "state_data = state_data.drop([\"fips\", \"area_name\", \"state_abbreviation\"], axis=1)"
      ],
      "execution_count": null,
      "outputs": []
    },
    {
      "cell_type": "code",
      "metadata": {
        "id": "anzrdzOJaKF4"
      },
      "source": [
        "state_data = state_data.merge(electoral_college, left_on=\"state\", right_on=\"state\")"
      ],
      "execution_count": null,
      "outputs": []
    },
    {
      "cell_type": "code",
      "metadata": {
        "colab": {
          "base_uri": "https://localhost:8080/",
          "height": 296
        },
        "id": "cNw_X08annl-",
        "outputId": "a28ae9ed-6390-4fe8-81ea-5b49d7d3be6f"
      },
      "source": [
        "sns.histplot(data=state_data[state_data[\"candidate\"]==\"Hillary Clinton\"], x=\"margin\", bins=25)\n",
        "plt.axvline(0, color=\"r\", alpha=0.5)"
      ],
      "execution_count": null,
      "outputs": [
        {
          "output_type": "execute_result",
          "data": {
            "text/plain": [
              "<matplotlib.lines.Line2D at 0x7f3d1e810090>"
            ]
          },
          "metadata": {
            "tags": []
          },
          "execution_count": 61
        },
        {
          "output_type": "display_data",
          "data": {
            "image/png": "[encoded data removed]",
            "text/plain": [
              "<Figure size 432x288 with 1 Axes>"
            ]
          },
          "metadata": {
            "tags": [],
            "needs_background": "light"
          }
        }
      ]
    },
    {
      "cell_type": "code",
      "metadata": {
        "colab": {
          "base_uri": "https://localhost:8080/",
          "height": 812
        },
        "id": "2Z_6IMazmj4H",
        "outputId": "8afe15e8-c046-4dea-f29e-c26b4df3febd"
      },
      "source": [
        "data_demomcrat_state = state_data[state_data[\"party\"] == \"democrat\"].loc[:,'candidatevotes':'POP060210']\n",
        "\n",
        "corr = data_demomcrat_state.corr()\n",
        "p_values = corr_sig(data_demomcrat_state)\n",
        "mask = np.invert( np.tril(p_values<=0.05) & (corr.abs()>=0.5) )\n",
        "\n",
        "plt.figure(figsize=(20,20))\n",
        "sns.heatmap(corr,\n",
        "            mask=mask,\n",
        "            cmap='coolwarm', linewidths=0.5, linecolor='black', cbar_kws={'orientation': 'horizontal'})"
      ],
      "execution_count": null,
      "outputs": [
        {
          "output_type": "execute_result",
          "data": {
            "text/plain": [
              "<matplotlib.axes._subplots.AxesSubplot at 0x7f3d20b67850>"
            ]
          },
          "metadata": {
            "tags": []
          },
          "execution_count": 63
        },
        {
          "output_type": "display_data",
          "data": {
            "image/png": "[encoded data removed]",
            "text/plain": [
              "<Figure size 1440x1440 with 2 Axes>"
            ]
          },
          "metadata": {
            "tags": [],
            "needs_background": "light"
          }
        }
      ]
    },
    {
      "cell_type": "markdown",
      "metadata": {
        "id": "Q9Q03C4al4EO"
      },
      "source": [
        "##earlier stuff"
      ]
    },
    {
      "cell_type": "code",
      "metadata": {
        "id": "WKbtC4_oFepI"
      },
      "source": [
        "electoral_college = electoral_college[electoral_college[\"Year\"]==2016]\n",
        "electoral_college.replace(\"D.C.\", value=\"District of Columbia\", inplace=True)\n",
        "electoral_college.Votes = electoral_college.Votes.astype(int)\n",
        "electoral_college.rename(columns={\"Votes\": \"electorvotes\"}, inplace=True)"
      ],
      "execution_count": null,
      "outputs": []
    },
    {
      "cell_type": "code",
      "metadata": {
        "id": "r8dD7knpom1z"
      },
      "source": [
        "results_by_state = pe[[\"candidate\", \"party\", \"candidatevotes\", \"state\"]].groupby([\"state\", \"candidate\", \"party\"], as_index=False)[\"candidatevotes\"].sum()\n",
        "state_winners= results_by_state.loc[results_by_state.groupby(\"state\")[\"candidatevotes\"].idxmax()]\n",
        "\n",
        "states = states.merge(state_winners[[\"state\",\"candidate\", \"party\"]].rename(columns={\"state\":\"State\",\"candidate\":\"StateWinnerName\", \"party\":\"StateWinnerParty\"}))\n",
        "states.head()"
      ],
      "execution_count": null,
      "outputs": []
    },
    {
      "cell_type": "code",
      "metadata": {
        "id": "ELdotHfg4r7C"
      },
      "source": [
        "chart_order = list( states[states[\"StateWinnerParty\"]==\"republican\"].sort_values(\"ElectorVotes\", ascending=False).index.values )\n",
        "chart_order += ( list( states[states[\"StateWinnerParty\"]==\"democrat\"].sort_values(\"ElectorVotes\", ascending=True).index.values ))"
      ],
      "execution_count": null,
      "outputs": []
    },
    {
      "cell_type": "code",
      "metadata": {
        "id": "P02ReV4t3ryi"
      },
      "source": [
        "chart_order = list( states[states[\"StateWinnerParty\"]==\"republican\"].sort_values(\"ElectorVotes\", ascending=False)[\"State\"] )\n",
        "chart_order += list( states[states[\"StateWinnerParty\"]==\"democrat\"].sort_values(\"ElectorVotes\", ascending=True)[\"State\"] )\n",
        "\n",
        "republicanred = \"#ef8a62\"\n",
        "democratblue = \"#67a9cf\"\n",
        "\n",
        "fig, ax = plt.subplots(figsize=(12, 8))\n",
        "sns.barplot(data=states, x=\"ElectorVotes\", y=\"State\",\n",
        "            hue=\"StateWinnerParty\",\n",
        "            palette={\"republican\":republicanred, \"democrat\":democratblue},\n",
        "            order=chart_order)"
      ],
      "execution_count": null,
      "outputs": []
    },
    {
      "cell_type": "markdown",
      "metadata": {
        "id": "lVil5C_gwcKC"
      },
      "source": [
        "# Evaluation Criteria"
      ]
    },
    {
      "cell_type": "markdown",
      "metadata": {
        "id": "ZRr0S9OfwcKD"
      },
      "source": [
        "- Code quality\n",
        "- Fulfillment of the idea\n",
        "- Adherence to the requirements\n",
        "- Delivery of the presentation\n",
        "\n",
        "Statistical hypothesis testing\n",
        "- Correct statistical test method is used, based on the situation.\n",
        "- Reasoning on chosen statistical significance level.\n",
        "\n",
        "Modeling\n",
        "- Both PCA and T-SNE algorithms are used."
      ]
    }
  ]
}