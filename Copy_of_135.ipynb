{
  "nbformat": 4,
  "nbformat_minor": 0,
  "metadata": {
    "kernelspec": {
      "display_name": "Python 3",
      "language": "python",
      "name": "python3"
    },
    "language_info": {
      "codemirror_mode": {
        "name": "ipython",
        "version": 3
      },
      "file_extension": ".py",
      "mimetype": "text/x-python",
      "name": "python",
      "nbconvert_exporter": "python",
      "pygments_lexer": "ipython3",
      "version": "3.8.5"
    },
    "colab": {
      "name": "Copy of 135.ipynb",
      "provenance": [],
      "include_colab_link": true
    }
  },
  "cells": [
    {
      "cell_type": "markdown",
      "metadata": {
        "id": "view-in-github",
        "colab_type": "text"
      },
      "source": [
        "<a href=\"https://colab.research.google.com/github/DaumantasL/Turing-Files/blob/main/Copy_of_135.ipynb\" target=\"_parent\"><img src=\"https://colab.research.google.com/assets/colab-badge.svg\" alt=\"Open In Colab\"/></a>"
      ]
    },
    {
      "cell_type": "markdown",
      "metadata": {
        "id": "hiMufgynlsuW"
      },
      "source": [
        "# Module 1: Data Science Fundamentals"
      ]
    },
    {
      "cell_type": "markdown",
      "metadata": {
        "id": "5vF9UH_Vlsum"
      },
      "source": [
        "## Sprint 3: Intro to Modeling"
      ]
    },
    {
      "cell_type": "markdown",
      "metadata": {
        "id": "tCnuG44Zlsun"
      },
      "source": [
        "## Spotify Challenge"
      ]
    },
    {
      "cell_type": "markdown",
      "metadata": {
        "id": "wz_5d3dxlsun"
      },
      "source": [
        "<div><img style=\"width: 100%; \" src=\"https://upload.wikimedia.org/wikipedia/commons/1/14/Iyyaka_Nastain_QR-Code_Spotify_Black.png\" /></div>"
      ]
    },
    {
      "cell_type": "markdown",
      "metadata": {
        "id": "8fnrv-3Vlsuo"
      },
      "source": [
        "## Background"
      ]
    },
    {
      "cell_type": "markdown",
      "metadata": {
        "id": "2eDZYnROlsuo"
      },
      "source": [
        "For our sprint's project, we'll analyze top 50 most listened songs in the world on Spotify. The dataset contains several music (sound) variables about the songs, which we'll use to perform modeling with."
      ]
    },
    {
      "cell_type": "markdown",
      "metadata": {
        "id": "m1OaXUlqlsuo"
      },
      "source": [
        "---------"
      ]
    },
    {
      "cell_type": "code",
      "metadata": {
        "id": "9V_FyZut66Zr"
      },
      "source": [
        "import numpy as np\r\n",
        "import pandas as pd\r\n",
        "import seaborn as sns\r\n",
        "import matplotlib.pyplot as plt"
      ],
      "execution_count": null,
      "outputs": []
    },
    {
      "cell_type": "code",
      "metadata": {
        "id": "oInYPU146-6i"
      },
      "source": [
        "df = pd.read_csv(\"https://raw.githubusercontent.com/DaumantasL/Turing-Files/main/top50.csv\", index_col=0, encoding = \"ISO-8859-1\")"
      ],
      "execution_count": null,
      "outputs": []
    },
    {
      "cell_type": "code",
      "metadata": {
        "colab": {
          "base_uri": "https://localhost:8080/",
          "height": 289
        },
        "id": "6y_24lwLDldb",
        "outputId": "43a34fcb-2f26-4271-f33c-6d7438a36279"
      },
      "source": [
        "df.head()"
      ],
      "execution_count": null,
      "outputs": [
        {
          "output_type": "execute_result",
          "data": {
            "text/html": [
              "<div>\n",
              "<style scoped>\n",
              "    .dataframe tbody tr th:only-of-type {\n",
              "        vertical-align: middle;\n",
              "    }\n",
              "\n",
              "    .dataframe tbody tr th {\n",
              "        vertical-align: top;\n",
              "    }\n",
              "\n",
              "    .dataframe thead th {\n",
              "        text-align: right;\n",
              "    }\n",
              "</style>\n",
              "<table border=\"1\" class=\"dataframe\">\n",
              "  <thead>\n",
              "    <tr style=\"text-align: right;\">\n",
              "      <th></th>\n",
              "      <th>TrackName</th>\n",
              "      <th>ArtistName</th>\n",
              "      <th>Genre</th>\n",
              "      <th>BeatsPerMinute</th>\n",
              "      <th>Energy</th>\n",
              "      <th>Danceability</th>\n",
              "      <th>LoudnessdB</th>\n",
              "      <th>Liveness</th>\n",
              "      <th>Valence</th>\n",
              "      <th>Length</th>\n",
              "      <th>Acousticness</th>\n",
              "      <th>Speechiness</th>\n",
              "      <th>Popularity</th>\n",
              "    </tr>\n",
              "  </thead>\n",
              "  <tbody>\n",
              "    <tr>\n",
              "      <th>1</th>\n",
              "      <td>Señorita</td>\n",
              "      <td>Shawn Mendes</td>\n",
              "      <td>canadian pop</td>\n",
              "      <td>117</td>\n",
              "      <td>55</td>\n",
              "      <td>76</td>\n",
              "      <td>-6</td>\n",
              "      <td>8</td>\n",
              "      <td>75</td>\n",
              "      <td>191</td>\n",
              "      <td>4</td>\n",
              "      <td>3</td>\n",
              "      <td>79</td>\n",
              "    </tr>\n",
              "    <tr>\n",
              "      <th>2</th>\n",
              "      <td>China</td>\n",
              "      <td>Anuel AA</td>\n",
              "      <td>reggaeton flow</td>\n",
              "      <td>105</td>\n",
              "      <td>81</td>\n",
              "      <td>79</td>\n",
              "      <td>-4</td>\n",
              "      <td>8</td>\n",
              "      <td>61</td>\n",
              "      <td>302</td>\n",
              "      <td>8</td>\n",
              "      <td>9</td>\n",
              "      <td>92</td>\n",
              "    </tr>\n",
              "    <tr>\n",
              "      <th>3</th>\n",
              "      <td>boyfriend (with Social House)</td>\n",
              "      <td>Ariana Grande</td>\n",
              "      <td>dance pop</td>\n",
              "      <td>190</td>\n",
              "      <td>80</td>\n",
              "      <td>40</td>\n",
              "      <td>-4</td>\n",
              "      <td>16</td>\n",
              "      <td>70</td>\n",
              "      <td>186</td>\n",
              "      <td>12</td>\n",
              "      <td>46</td>\n",
              "      <td>85</td>\n",
              "    </tr>\n",
              "    <tr>\n",
              "      <th>4</th>\n",
              "      <td>Beautiful People (feat. Khalid)</td>\n",
              "      <td>Ed Sheeran</td>\n",
              "      <td>pop</td>\n",
              "      <td>93</td>\n",
              "      <td>65</td>\n",
              "      <td>64</td>\n",
              "      <td>-8</td>\n",
              "      <td>8</td>\n",
              "      <td>55</td>\n",
              "      <td>198</td>\n",
              "      <td>12</td>\n",
              "      <td>19</td>\n",
              "      <td>86</td>\n",
              "    </tr>\n",
              "    <tr>\n",
              "      <th>5</th>\n",
              "      <td>Goodbyes (Feat. Young Thug)</td>\n",
              "      <td>Post Malone</td>\n",
              "      <td>dfw rap</td>\n",
              "      <td>150</td>\n",
              "      <td>65</td>\n",
              "      <td>58</td>\n",
              "      <td>-4</td>\n",
              "      <td>11</td>\n",
              "      <td>18</td>\n",
              "      <td>175</td>\n",
              "      <td>45</td>\n",
              "      <td>7</td>\n",
              "      <td>94</td>\n",
              "    </tr>\n",
              "  </tbody>\n",
              "</table>\n",
              "</div>"
            ],
            "text/plain": [
              "                         TrackName     ArtistName  ... Speechiness  Popularity\n",
              "1                         Señorita   Shawn Mendes  ...           3          79\n",
              "2                            China       Anuel AA  ...           9          92\n",
              "3    boyfriend (with Social House)  Ariana Grande  ...          46          85\n",
              "4  Beautiful People (feat. Khalid)     Ed Sheeran  ...          19          86\n",
              "5      Goodbyes (Feat. Young Thug)    Post Malone  ...           7          94\n",
              "\n",
              "[5 rows x 13 columns]"
            ]
          },
          "metadata": {
            "tags": []
          },
          "execution_count": 15
        }
      ]
    },
    {
      "cell_type": "code",
      "metadata": {
        "id": "iZ9JbhbdBemh"
      },
      "source": [
        "df.columns = df.columns.str.replace(\".\", \"\")"
      ],
      "execution_count": null,
      "outputs": []
    },
    {
      "cell_type": "code",
      "metadata": {
        "id": "Svx1eDYnAtSO"
      },
      "source": [
        "df.at[33, \"TrackName\"] = \"11:11\""
      ],
      "execution_count": null,
      "outputs": []
    },
    {
      "cell_type": "code",
      "metadata": {
        "id": "vTHpT37wE4Ce",
        "colab": {
          "base_uri": "https://localhost:8080/",
          "height": 297
        },
        "outputId": "db9f0a3e-fce3-4a36-c02b-a1c7471419cf"
      },
      "source": [
        "df.describe()"
      ],
      "execution_count": null,
      "outputs": [
        {
          "output_type": "execute_result",
          "data": {
            "text/html": [
              "<div>\n",
              "<style scoped>\n",
              "    .dataframe tbody tr th:only-of-type {\n",
              "        vertical-align: middle;\n",
              "    }\n",
              "\n",
              "    .dataframe tbody tr th {\n",
              "        vertical-align: top;\n",
              "    }\n",
              "\n",
              "    .dataframe thead th {\n",
              "        text-align: right;\n",
              "    }\n",
              "</style>\n",
              "<table border=\"1\" class=\"dataframe\">\n",
              "  <thead>\n",
              "    <tr style=\"text-align: right;\">\n",
              "      <th></th>\n",
              "      <th>BeatsPerMinute</th>\n",
              "      <th>Energy</th>\n",
              "      <th>Danceability</th>\n",
              "      <th>LoudnessdB</th>\n",
              "      <th>Liveness</th>\n",
              "      <th>Valence</th>\n",
              "      <th>Length</th>\n",
              "      <th>Acousticness</th>\n",
              "      <th>Speechiness</th>\n",
              "      <th>Popularity</th>\n",
              "    </tr>\n",
              "  </thead>\n",
              "  <tbody>\n",
              "    <tr>\n",
              "      <th>count</th>\n",
              "      <td>50.000000</td>\n",
              "      <td>50.000000</td>\n",
              "      <td>50.00000</td>\n",
              "      <td>50.000000</td>\n",
              "      <td>50.000000</td>\n",
              "      <td>50.000000</td>\n",
              "      <td>50.000000</td>\n",
              "      <td>50.000000</td>\n",
              "      <td>50.000000</td>\n",
              "      <td>50.000000</td>\n",
              "    </tr>\n",
              "    <tr>\n",
              "      <th>mean</th>\n",
              "      <td>120.060000</td>\n",
              "      <td>64.060000</td>\n",
              "      <td>71.38000</td>\n",
              "      <td>-5.660000</td>\n",
              "      <td>14.660000</td>\n",
              "      <td>54.600000</td>\n",
              "      <td>200.960000</td>\n",
              "      <td>22.160000</td>\n",
              "      <td>12.480000</td>\n",
              "      <td>87.500000</td>\n",
              "    </tr>\n",
              "    <tr>\n",
              "      <th>std</th>\n",
              "      <td>30.898392</td>\n",
              "      <td>14.231913</td>\n",
              "      <td>11.92988</td>\n",
              "      <td>2.056448</td>\n",
              "      <td>11.118306</td>\n",
              "      <td>22.336024</td>\n",
              "      <td>39.143879</td>\n",
              "      <td>18.995553</td>\n",
              "      <td>11.161596</td>\n",
              "      <td>4.491489</td>\n",
              "    </tr>\n",
              "    <tr>\n",
              "      <th>min</th>\n",
              "      <td>85.000000</td>\n",
              "      <td>32.000000</td>\n",
              "      <td>29.00000</td>\n",
              "      <td>-11.000000</td>\n",
              "      <td>5.000000</td>\n",
              "      <td>10.000000</td>\n",
              "      <td>115.000000</td>\n",
              "      <td>1.000000</td>\n",
              "      <td>3.000000</td>\n",
              "      <td>70.000000</td>\n",
              "    </tr>\n",
              "    <tr>\n",
              "      <th>25%</th>\n",
              "      <td>96.000000</td>\n",
              "      <td>55.250000</td>\n",
              "      <td>67.00000</td>\n",
              "      <td>-6.750000</td>\n",
              "      <td>8.000000</td>\n",
              "      <td>38.250000</td>\n",
              "      <td>176.750000</td>\n",
              "      <td>8.250000</td>\n",
              "      <td>5.000000</td>\n",
              "      <td>86.000000</td>\n",
              "    </tr>\n",
              "    <tr>\n",
              "      <th>50%</th>\n",
              "      <td>104.500000</td>\n",
              "      <td>66.500000</td>\n",
              "      <td>73.50000</td>\n",
              "      <td>-6.000000</td>\n",
              "      <td>11.000000</td>\n",
              "      <td>55.500000</td>\n",
              "      <td>198.000000</td>\n",
              "      <td>15.000000</td>\n",
              "      <td>7.000000</td>\n",
              "      <td>88.000000</td>\n",
              "    </tr>\n",
              "    <tr>\n",
              "      <th>75%</th>\n",
              "      <td>137.500000</td>\n",
              "      <td>74.750000</td>\n",
              "      <td>79.75000</td>\n",
              "      <td>-4.000000</td>\n",
              "      <td>15.750000</td>\n",
              "      <td>69.500000</td>\n",
              "      <td>217.500000</td>\n",
              "      <td>33.750000</td>\n",
              "      <td>15.000000</td>\n",
              "      <td>90.750000</td>\n",
              "    </tr>\n",
              "    <tr>\n",
              "      <th>max</th>\n",
              "      <td>190.000000</td>\n",
              "      <td>88.000000</td>\n",
              "      <td>90.00000</td>\n",
              "      <td>-2.000000</td>\n",
              "      <td>58.000000</td>\n",
              "      <td>95.000000</td>\n",
              "      <td>309.000000</td>\n",
              "      <td>75.000000</td>\n",
              "      <td>46.000000</td>\n",
              "      <td>95.000000</td>\n",
              "    </tr>\n",
              "  </tbody>\n",
              "</table>\n",
              "</div>"
            ],
            "text/plain": [
              "       BeatsPerMinute     Energy  ...  Speechiness  Popularity\n",
              "count       50.000000  50.000000  ...    50.000000   50.000000\n",
              "mean       120.060000  64.060000  ...    12.480000   87.500000\n",
              "std         30.898392  14.231913  ...    11.161596    4.491489\n",
              "min         85.000000  32.000000  ...     3.000000   70.000000\n",
              "25%         96.000000  55.250000  ...     5.000000   86.000000\n",
              "50%        104.500000  66.500000  ...     7.000000   88.000000\n",
              "75%        137.500000  74.750000  ...    15.000000   90.750000\n",
              "max        190.000000  88.000000  ...    46.000000   95.000000\n",
              "\n",
              "[8 rows x 10 columns]"
            ]
          },
          "metadata": {
            "tags": []
          },
          "execution_count": 14
        }
      ]
    },
    {
      "cell_type": "markdown",
      "metadata": {
        "id": "CzLPzP1eZDtj"
      },
      "source": [
        "Having looked up [Spotify's current API guidelines](https://developer.spotify.com/documentation/web-api/reference/#object-audiofeaturesobject), where the same \"Danceability\" type values we have here range from 0 to 1, in combination with the min and max values we see above, probably means that the true ranges for our current values are 0 to 100 in the dataset they came from.\r\n",
        "\r\n",
        "Knowing that and looking at the mean values and standard deviations, we can make some quick assumptions without doing any deeper analysis - the whole group of these songs are higher energy (Energy) and better to dance to (Danceability) than average, they're not very \"Live\", \"Acoustic\", or \"Speechy\", and it basically doesn't matter for a song's popularity whether it's a sad or happy one (Valence).\r\n",
        "\r\n",
        "The other group of values we have are Beats per minute, Loudness, and Length, which are objective values of the songs' physical features rather than aggregated judgements about them."
      ]
    },
    {
      "cell_type": "code",
      "metadata": {
        "id": "fT1mrf26wilY",
        "colab": {
          "base_uri": "https://localhost:8080/",
          "height": 639
        },
        "outputId": "4e44262b-4148-4841-8d09-56235cf3871e"
      },
      "source": [
        "corr = df.corr()\r\n",
        "mask = np.triu(np.ones_like(corr, dtype=bool))\r\n",
        "f, ax = plt.subplots(figsize=(11, 9))\r\n",
        "cmap = sns.diverging_palette(230, 20, as_cmap=True)\r\n",
        "sns.heatmap(corr, cmap=cmap, mask=mask, annot=True, vmax=.3, center=0,\r\n",
        "            square=True, linewidths=.5, cbar_kws={\"shrink\": .5}\r\n",
        "            ).set_title(\"Correlation heatmap\")"
      ],
      "execution_count": null,
      "outputs": [
        {
          "output_type": "execute_result",
          "data": {
            "text/plain": [
              "Text(0.5, 1.0, 'Correlation heatmap')"
            ]
          },
          "metadata": {
            "tags": []
          },
          "execution_count": 7
        },
        {
          "output_type": "display_data",
          "data": {
            "image/png": "[encoded data removed]",
            "text/plain": [
              "<Figure size 792x648 with 2 Axes>"
            ]
          },
          "metadata": {
            "tags": [],
            "needs_background": "light"
          }
        }
      ]
    },
    {
      "cell_type": "markdown",
      "metadata": {
        "id": "Rb3jQDvt2Pc_"
      },
      "source": [
        "So here's something interesting - acccording to the data in our sample, Danceability has barely any relationship with popularity, even though earlier we guessed that Popular songs are likely to be highly Danceable. Why is that?\r\n",
        "\r\n",
        "Well, what we have at our hands is obviously not a random sample of all songs on Spotify. And so a relationship that holds between a part of the whole and the whole itself may not be present when we're just looking at the part.\r\n",
        "\r\n",
        "This affects what we will be able to say about our results later. We can't really say what kind of features music genres have in general, but we can say something about features the most popular representatives of a genre have.\r\n"
      ]
    },
    {
      "cell_type": "code",
      "metadata": {
        "id": "Piw4itIVcZa1",
        "colab": {
          "base_uri": "https://localhost:8080/"
        },
        "outputId": "545cf041-8604-4da4-8bd6-f82ebbe265e4"
      },
      "source": [
        "import pandas as pd\r\n",
        "\r\n",
        "from sklearn.cluster import KMeans\r\n",
        "\r\n",
        "X, _ = make_blobs(n_samples=10, centers=3, n_features=4)\r\n",
        "\r\n",
        "df = pd.DataFrame(X, columns=['Feat_1', 'Feat_2', 'Feat_3', 'Feat_4'])\r\n",
        "\r\n",
        "kmeans = KMeans(n_clusters=3)\r\n",
        "\r\n",
        "y = kmeans.fit_predict(df[['Feat_1', 'Feat_2', 'Feat_3', 'Feat_4']])\r\n",
        "\r\n",
        "df['Cluster'] = y\r\n",
        "\r\n",
        "print(df.head())"
      ],
      "execution_count": null,
      "outputs": [
        {
          "output_type": "stream",
          "text": [
            "/usr/local/lib/python3.7/dist-packages/sklearn/utils/deprecation.py:144: FutureWarning: The sklearn.datasets.samples_generator module is  deprecated in version 0.22 and will be removed in version 0.24. The corresponding classes / functions should instead be imported from sklearn.datasets. Anything that cannot be imported from sklearn.datasets is now part of the private API.\n",
            "  warnings.warn(message, FutureWarning)\n"
          ],
          "name": "stderr"
        },
        {
          "output_type": "stream",
          "text": [
            "     Feat_1    Feat_2    Feat_3     Feat_4  Cluster\n",
            "0  6.193025 -0.432975  5.222722  -4.692500        0\n",
            "1  4.818814  0.133713  6.470631  -4.709657        0\n",
            "2  3.903827 -0.231483  5.358327  -5.419220        0\n",
            "3 -2.404028 -5.874985  3.047976  11.144385        2\n",
            "4 -2.464092 -5.606816  3.821163   8.477024        2\n"
          ],
          "name": "stdout"
        }
      ]
    },
    {
      "cell_type": "markdown",
      "metadata": {
        "id": "Hb9-UL8aebMd"
      },
      "source": [
        "50/5 is often 10."
      ]
    },
    {
      "cell_type": "code",
      "metadata": {
        "id": "135Oe9Nregu_"
      },
      "source": [
        "X = df.loc[:, 'BeatsPerMinute':'Popularity']\r\n",
        "kmeans = KMeans(n_clusters=10)"
      ],
      "execution_count": null,
      "outputs": []
    },
    {
      "cell_type": "code",
      "metadata": {
        "id": "Bs7caH7Ifsir"
      },
      "source": [
        "egg = kmeans.fit(X)"
      ],
      "execution_count": null,
      "outputs": []
    },
    {
      "cell_type": "code",
      "metadata": {
        "id": "g7sVDKRkf6EC",
        "colab": {
          "base_uri": "https://localhost:8080/"
        },
        "outputId": "e6a7eb4d-e7fb-47aa-a2a2-96fb8c1c8538"
      },
      "source": [
        "egg.labels_"
      ],
      "execution_count": null,
      "outputs": [
        {
          "output_type": "execute_result",
          "data": {
            "text/plain": [
              "array([8, 7, 5, 3, 1, 8, 6, 2, 9, 1, 4, 3, 0, 4, 2, 2, 4, 0, 9, 9, 9, 6,\n",
              "       7, 7, 1, 8, 0, 2, 3, 3, 2, 1, 3, 2, 2, 9, 4, 5, 8, 0, 2, 3, 2, 1,\n",
              "       0, 3, 5, 3, 2, 3], dtype=int32)"
            ]
          },
          "metadata": {
            "tags": []
          },
          "execution_count": 20
        }
      ]
    },
    {
      "cell_type": "code",
      "metadata": {
        "id": "TLLDA1Ophcpq"
      },
      "source": [
        "df[\"KmeansCluster\"] = egg.labels_"
      ],
      "execution_count": null,
      "outputs": []
    },
    {
      "cell_type": "code",
      "metadata": {
        "id": "kdzYOrFxi1wl",
        "colab": {
          "base_uri": "https://localhost:8080/"
        },
        "outputId": "3a9a7e82-cdcf-4cdb-d07e-b94f877264f7"
      },
      "source": [
        "df[\"KmeansCluster\"].value_counts()"
      ],
      "execution_count": null,
      "outputs": [
        {
          "output_type": "execute_result",
          "data": {
            "text/plain": [
              "2    10\n",
              "3     9\n",
              "9     5\n",
              "1     5\n",
              "0     5\n",
              "8     4\n",
              "4     4\n",
              "7     3\n",
              "5     3\n",
              "6     2\n",
              "Name: KmeansCluster, dtype: int64"
            ]
          },
          "metadata": {
            "tags": []
          },
          "execution_count": 27
        }
      ]
    },
    {
      "cell_type": "markdown",
      "metadata": {
        "id": "k6GLSedapqCe"
      },
      "source": [
        "Looks like we have a problem - we were asked to generate lists of 5 of similar songs, but the implementation of KMeans we're using will create clusters of variable size. Giving a brief glance over the other stock clustering options sklearn provides, it doesn't look look any of them will easily do what we were asked. We're going to need to get creative.\r\n",
        "\r\n",
        "And by \"creative\", I mean that we're going to steal code we barely understand, cross our fingers and hope it works.\r\n",
        "\r\n",
        "[Stanislaw Adaszewski](https://adared.ch/constrained-k-means-implementation-in-python/) \r\n",
        "\r\n"
      ]
    },
    {
      "cell_type": "code",
      "metadata": {
        "colab": {
          "base_uri": "https://localhost:8080/"
        },
        "id": "3mFbd2OgtGg0",
        "outputId": "8cbd8dae-eb7f-4d78-b152-087aad89d271"
      },
      "source": [
        "import networkx as nx\r\n",
        "import numpy as np\r\n",
        "import time\r\n",
        "\r\n",
        "\r\n",
        "def constrained_kmeans(data, demand, maxiter=None, fixedprec=1e9):\r\n",
        "\tdata = np.array(data)\r\n",
        "\t\r\n",
        "\tmin_ = np.min(data, axis = 0)\r\n",
        "\tmax_ = np.max(data, axis = 0)\r\n",
        "\t\r\n",
        "\tC = min_ + np.random.random((len(demand), data.shape[1])) * (max_ - min_)\r\n",
        "\tM = np.array([-1] * len(data), dtype=np.int)\r\n",
        "\t\r\n",
        "\titercnt = 0\r\n",
        "\twhile True:\r\n",
        "\t\titercnt += 1\r\n",
        "\t\t\r\n",
        "\t\t# memberships\r\n",
        "\t\tg = nx.DiGraph()\r\n",
        "\t\tg.add_nodes_from(range(0, data.shape[0]), demand=-1) # points\r\n",
        "\t\tfor i in range(0, len(C)):\r\n",
        "\t\t\tg.add_node(len(data) + i, demand=demand[i])\r\n",
        "\t\t\r\n",
        "\t\t# Calculating cost...\r\n",
        "\t\tcost = np.array([np.linalg.norm(np.tile(data.T, len(C)).T - np.tile(C, len(data)).reshape(len(C) * len(data), C.shape[1]), axis=1)])\r\n",
        "\t\t# Preparing data_to_C_edges...\r\n",
        "\t\tdata_to_C_edges = np.concatenate((np.tile([range(0, data.shape[0])], len(C)).T, np.tile(np.array([range(data.shape[0], data.shape[0] + C.shape[0])]).T, len(data)).reshape(len(C) * len(data), 1), cost.T * fixedprec), axis=1).astype(np.uint64)\r\n",
        "\t\t# Adding to graph\r\n",
        "\t\tg.add_weighted_edges_from(data_to_C_edges)\r\n",
        "\t\t\r\n",
        "\r\n",
        "\t\ta = len(data) + len(C)\r\n",
        "\t\tg.add_node(a, demand=len(data)-np.sum(demand))\r\n",
        "\t\tC_to_a_edges = np.concatenate((np.array([range(len(data), len(data) + len(C))]).T, np.tile([[a]], len(C)).T), axis=1)\r\n",
        "\t\tg.add_edges_from(C_to_a_edges)\r\n",
        "\t\t\r\n",
        "\t\t\r\n",
        "\t\t# Calculating min cost flow...\r\n",
        "\t\tf = nx.min_cost_flow(g)\r\n",
        "\t\t\r\n",
        "\t\t# assign\r\n",
        "\t\tM_new = np.ones(len(data), dtype=np.int) * -1\r\n",
        "\t\tfor i in range(len(data)):\r\n",
        "\t\t\tp = sorted(iter(f[i].items()), key=lambda x: x[1])[-1][0]\r\n",
        "\t\t\tM_new[i] = p - len(data)\r\n",
        "\t\t\t\r\n",
        "\t\t# stop condition\r\n",
        "\t\tif np.all(M_new == M):\r\n",
        "\t\t\t# Stop\r\n",
        "\t\t\treturn (C, M, f)\r\n",
        "\t\t\t\r\n",
        "\t\tM = M_new\r\n",
        "\t\t\t\r\n",
        "\t\t# compute new centers\r\n",
        "\t\tfor i in range(len(C)):\r\n",
        "\t\t\tC[i, :] = np.mean(data[M==i, :], axis=0)\r\n",
        "\t\t\t\r\n",
        "\t\tif maxiter is not None and itercnt >= maxiter:\r\n",
        "\t\t\t# Max iterations reached\r\n",
        "\t\t\treturn (C, M, f)\r\n",
        "\r\n",
        "\r\n",
        "def main():\r\n",
        "\tdata = np.random.random((100, 3))\r\n",
        "\tt = time.time()\r\n",
        "\t(C, M, f) = constrained_kmeans(data, [25, 25, 25])\r\n",
        "\tprint('Elapsed:', (time.time() - t) * 1000, 'ms')\r\n",
        "\tprint('C:', C)\r\n",
        "\tprint('M:', M)\r\n",
        "\t\r\n",
        "\r\n",
        "if __name__ == '__main__':\r\n",
        "\tmain()"
      ],
      "execution_count": 7,
      "outputs": [
        {
          "output_type": "stream",
          "text": [
            "Elapsed: 88.0582332611084 ms\n",
            "C: [[0.70708013 0.47935335 0.1740675 ]\n",
            " [0.22130173 0.58606736 0.54584512]\n",
            " [0.71560961 0.4249886  0.71664227]]\n",
            "M: [2 1 1 0 0 1 2 1 1 1 0 1 2 0 2 2 0 0 2 2 1 2 1 0 1 2 0 1 0 2 0 2 2 2 0 0 1\n",
            " 0 0 2 0 0 1 0 1 2 2 1 0 2 1 1 1 1 1 1 1 0 1 2 0 2 1 0 1 0 2 2 1 0 1 2 0 1\n",
            " 2 1 1 1 2 0 0 2 1 0 2 1 1 0 0 1 1 1 1 1 1 2 2 2 0 2]\n"
          ],
          "name": "stdout"
        }
      ]
    },
    {
      "cell_type": "markdown",
      "metadata": {
        "id": "IbhClAFGlsup"
      },
      "source": [
        "## How to start?"
      ]
    },
    {
      "cell_type": "markdown",
      "metadata": {
        "id": "j60RZ1B8lsup"
      },
      "source": [
        "Download the dataset [from Kaggle](https://www.kaggle.com/leonardopena/top50spotify2019) and read it. You should start by performing basic EDA on it. Afterwards, follow the requirements."
      ]
    },
    {
      "cell_type": "markdown",
      "metadata": {
        "id": "n7m4ElNvlsup"
      },
      "source": [
        "## Concepts to explore"
      ]
    },
    {
      "cell_type": "markdown",
      "metadata": {
        "id": "Q1E1fCKUlsuq"
      },
      "source": [
        "We will use dimensionality reduction, do some clustering with K-means and perform linear regression."
      ]
    },
    {
      "cell_type": "markdown",
      "metadata": {
        "id": "QKe8LFYRlsuq"
      },
      "source": [
        "## Requirements"
      ]
    },
    {
      "cell_type": "markdown",
      "metadata": {
        "id": "DmS9h6sAlsur"
      },
      "source": [
        "* Perform basic EDA.\n",
        "* Perform dimensionality reduction on song features, verify data separability by `Genre` (PCA and/or t-SNE).\n",
        "* Infer `Genre` using song features with linear regression.\n",
        "* Cluster songs by features. Generate lists of 5 of similar songs. Verify their similarity by actually listening to some of cluster items on Youtube / Spotify / any other streaming platform."
      ]
    },
    {
      "cell_type": "markdown",
      "metadata": {
        "id": "akJYg5tglsur"
      },
      "source": [
        "## Evaluation Criteria"
      ]
    },
    {
      "cell_type": "markdown",
      "metadata": {
        "id": "FJi3IDw-lsur"
      },
      "source": [
        "- Code quality\n",
        "- Adherence to the requirements\n",
        "- Correctness of applied methods"
      ]
    }
  ]
}